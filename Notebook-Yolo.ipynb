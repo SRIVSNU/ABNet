{
 "cells": [
  {
   "cell_type": "code",
   "execution_count": 2,
   "metadata": {
    "colab": {
     "base_uri": "https://localhost:8080/"
    },
    "executionInfo": {
     "elapsed": 27140,
     "status": "ok",
     "timestamp": 1675421320994,
     "user": {
      "displayName": "tru projects",
      "userId": "10140123910494422627"
     },
     "user_tz": -330
    },
    "id": "0glkJzEGgG2F",
    "outputId": "7ddd30f8-abed-47a5-af37-a206b9574f11"
   },
   "outputs": [
    {
     "name": "stdout",
     "output_type": "stream",
     "text": [
      "Mounted at /content/drive\n"
     ]
    }
   ],
   "source": [
    "from google.colab import drive\n",
    "drive.mount('/content/drive')"
   ]
  },
  {
   "cell_type": "markdown",
   "metadata": {
    "id": "1_d-G2QDtfhV"
   },
   "source": [
    "# **YoloV5**"
   ]
  },
  {
   "cell_type": "code",
   "execution_count": 1,
   "metadata": {
    "executionInfo": {
     "elapsed": 3545,
     "status": "ok",
     "timestamp": 1675421291180,
     "user": {
      "displayName": "tru projects",
      "userId": "10140123910494422627"
     },
     "user_tz": -330
    },
    "id": "aZ0F-ruowDYn"
   },
   "outputs": [],
   "source": [
    "import torch\n",
    "from IPython.display import Image\n",
    "import shutil\n",
    "import os\n",
    "from random import choice"
   ]
  },
  {
   "cell_type": "code",
   "execution_count": 3,
   "metadata": {
    "colab": {
     "base_uri": "https://localhost:8080/"
    },
    "executionInfo": {
     "elapsed": 4458,
     "status": "ok",
     "timestamp": 1675421325429,
     "user": {
      "displayName": "tru projects",
      "userId": "10140123910494422627"
     },
     "user_tz": -330
    },
    "id": "8elCCNWnwEBn",
    "outputId": "6ceba3a3-96f4-4c18-dd5b-2a5c8f585504"
   },
   "outputs": [
    {
     "name": "stdout",
     "output_type": "stream",
     "text": [
      "Cloning into 'yolov5'...\n",
      "remote: Enumerating objects: 15005, done.\u001b[K\n",
      "remote: Counting objects: 100% (3/3), done.\u001b[K\n",
      "remote: Compressing objects: 100% (3/3), done.\u001b[K\n",
      "remote: Total 15005 (delta 0), reused 0 (delta 0), pack-reused 15002\u001b[K\n",
      "Receiving objects: 100% (15005/15005), 14.09 MiB | 5.49 MiB/s, done.\n",
      "Resolving deltas: 100% (10285/10285), done.\n"
     ]
    }
   ],
   "source": [
    "!git clone https://github.com/ultralytics/yolov5"
   ]
  },
  {
   "cell_type": "code",
   "execution_count": 4,
   "metadata": {
    "colab": {
     "base_uri": "https://localhost:8080/"
    },
    "executionInfo": {
     "elapsed": 5,
     "status": "ok",
     "timestamp": 1675421328398,
     "user": {
      "displayName": "tru projects",
      "userId": "10140123910494422627"
     },
     "user_tz": -330
    },
    "id": "m4eq7M4QwGYx",
    "outputId": "516494ec-9c0b-4589-df3f-56f9e96022e6"
   },
   "outputs": [
    {
     "name": "stdout",
     "output_type": "stream",
     "text": [
      "/content/yolov5\n"
     ]
    }
   ],
   "source": [
    "%cd /content/yolov5/"
   ]
  },
  {
   "cell_type": "code",
   "execution_count": 5,
   "metadata": {
    "colab": {
     "base_uri": "https://localhost:8080/"
    },
    "executionInfo": {
     "elapsed": 8962,
     "status": "ok",
     "timestamp": 1675421340447,
     "user": {
      "displayName": "tru projects",
      "userId": "10140123910494422627"
     },
     "user_tz": -330
    },
    "id": "jZivwxlnwH8V",
    "outputId": "f9768f78-0b84-421c-c40b-a95d7072c92b"
   },
   "outputs": [
    {
     "name": "stdout",
     "output_type": "stream",
     "text": [
      "Looking in indexes: https://pypi.org/simple, https://us-python.pkg.dev/colab-wheels/public/simple/\n",
      "Collecting gitpython\n",
      "  Downloading GitPython-3.1.30-py3-none-any.whl (184 kB)\n",
      "\u001b[2K     \u001b[90m━━━━━━━━━━━━━━━━━━━━━━━━━━━━━━━━━━━━━━\u001b[0m \u001b[32m184.0/184.0 KB\u001b[0m \u001b[31m17.3 MB/s\u001b[0m eta \u001b[36m0:00:00\u001b[0m\n",
      "\u001b[?25hRequirement already satisfied: ipython in /usr/local/lib/python3.8/dist-packages (from -r requirements.txt (line 6)) (7.9.0)\n",
      "Requirement already satisfied: matplotlib>=3.2.2 in /usr/local/lib/python3.8/dist-packages (from -r requirements.txt (line 7)) (3.2.2)\n",
      "Requirement already satisfied: numpy>=1.18.5 in /usr/local/lib/python3.8/dist-packages (from -r requirements.txt (line 8)) (1.21.6)\n",
      "Requirement already satisfied: opencv-python>=4.1.1 in /usr/local/lib/python3.8/dist-packages (from -r requirements.txt (line 9)) (4.6.0.66)\n",
      "Requirement already satisfied: Pillow>=7.1.2 in /usr/local/lib/python3.8/dist-packages (from -r requirements.txt (line 10)) (7.1.2)\n",
      "Requirement already satisfied: psutil in /usr/local/lib/python3.8/dist-packages (from -r requirements.txt (line 11)) (5.4.8)\n",
      "Requirement already satisfied: PyYAML>=5.3.1 in /usr/local/lib/python3.8/dist-packages (from -r requirements.txt (line 12)) (6.0)\n",
      "Requirement already satisfied: requests>=2.23.0 in /usr/local/lib/python3.8/dist-packages (from -r requirements.txt (line 13)) (2.25.1)\n",
      "Requirement already satisfied: scipy>=1.4.1 in /usr/local/lib/python3.8/dist-packages (from -r requirements.txt (line 14)) (1.7.3)\n",
      "Collecting thop>=0.1.1\n",
      "  Downloading thop-0.1.1.post2209072238-py3-none-any.whl (15 kB)\n",
      "Requirement already satisfied: torch>=1.7.0 in /usr/local/lib/python3.8/dist-packages (from -r requirements.txt (line 16)) (1.13.1+cu116)\n",
      "Requirement already satisfied: torchvision>=0.8.1 in /usr/local/lib/python3.8/dist-packages (from -r requirements.txt (line 17)) (0.14.1+cu116)\n",
      "Requirement already satisfied: tqdm>=4.64.0 in /usr/local/lib/python3.8/dist-packages (from -r requirements.txt (line 18)) (4.64.1)\n",
      "Requirement already satisfied: tensorboard>=2.4.1 in /usr/local/lib/python3.8/dist-packages (from -r requirements.txt (line 22)) (2.9.1)\n",
      "Requirement already satisfied: pandas>=1.1.4 in /usr/local/lib/python3.8/dist-packages (from -r requirements.txt (line 27)) (1.3.5)\n",
      "Requirement already satisfied: seaborn>=0.11.0 in /usr/local/lib/python3.8/dist-packages (from -r requirements.txt (line 28)) (0.11.2)\n",
      "Collecting gitdb<5,>=4.0.1\n",
      "  Downloading gitdb-4.0.10-py3-none-any.whl (62 kB)\n",
      "\u001b[2K     \u001b[90m━━━━━━━━━━━━━━━━━━━━━━━━━━━━━━━━━━━━━━━━\u001b[0m \u001b[32m62.7/62.7 KB\u001b[0m \u001b[31m9.0 MB/s\u001b[0m eta \u001b[36m0:00:00\u001b[0m\n",
      "\u001b[?25hRequirement already satisfied: prompt-toolkit<2.1.0,>=2.0.0 in /usr/local/lib/python3.8/dist-packages (from ipython->-r requirements.txt (line 6)) (2.0.10)\n",
      "Requirement already satisfied: pexpect in /usr/local/lib/python3.8/dist-packages (from ipython->-r requirements.txt (line 6)) (4.8.0)\n",
      "Requirement already satisfied: traitlets>=4.2 in /usr/local/lib/python3.8/dist-packages (from ipython->-r requirements.txt (line 6)) (5.7.1)\n",
      "Requirement already satisfied: decorator in /usr/local/lib/python3.8/dist-packages (from ipython->-r requirements.txt (line 6)) (4.4.2)\n",
      "Requirement already satisfied: setuptools>=18.5 in /usr/local/lib/python3.8/dist-packages (from ipython->-r requirements.txt (line 6)) (57.4.0)\n",
      "Requirement already satisfied: pickleshare in /usr/local/lib/python3.8/dist-packages (from ipython->-r requirements.txt (line 6)) (0.7.5)\n",
      "Collecting jedi>=0.10\n",
      "  Downloading jedi-0.18.2-py2.py3-none-any.whl (1.6 MB)\n",
      "\u001b[2K     \u001b[90m━━━━━━━━━━━━━━━━━━━━━━━━━━━━━━━━━━━━━━━━\u001b[0m \u001b[32m1.6/1.6 MB\u001b[0m \u001b[31m80.0 MB/s\u001b[0m eta \u001b[36m0:00:00\u001b[0m\n",
      "\u001b[?25hRequirement already satisfied: backcall in /usr/local/lib/python3.8/dist-packages (from ipython->-r requirements.txt (line 6)) (0.2.0)\n",
      "Requirement already satisfied: pygments in /usr/local/lib/python3.8/dist-packages (from ipython->-r requirements.txt (line 6)) (2.6.1)\n",
      "Requirement already satisfied: cycler>=0.10 in /usr/local/lib/python3.8/dist-packages (from matplotlib>=3.2.2->-r requirements.txt (line 7)) (0.11.0)\n",
      "Requirement already satisfied: python-dateutil>=2.1 in /usr/local/lib/python3.8/dist-packages (from matplotlib>=3.2.2->-r requirements.txt (line 7)) (2.8.2)\n",
      "Requirement already satisfied: pyparsing!=2.0.4,!=2.1.2,!=2.1.6,>=2.0.1 in /usr/local/lib/python3.8/dist-packages (from matplotlib>=3.2.2->-r requirements.txt (line 7)) (3.0.9)\n",
      "Requirement already satisfied: kiwisolver>=1.0.1 in /usr/local/lib/python3.8/dist-packages (from matplotlib>=3.2.2->-r requirements.txt (line 7)) (1.4.4)\n",
      "Requirement already satisfied: chardet<5,>=3.0.2 in /usr/local/lib/python3.8/dist-packages (from requests>=2.23.0->-r requirements.txt (line 13)) (4.0.0)\n",
      "Requirement already satisfied: idna<3,>=2.5 in /usr/local/lib/python3.8/dist-packages (from requests>=2.23.0->-r requirements.txt (line 13)) (2.10)\n",
      "Requirement already satisfied: urllib3<1.27,>=1.21.1 in /usr/local/lib/python3.8/dist-packages (from requests>=2.23.0->-r requirements.txt (line 13)) (1.24.3)\n",
      "Requirement already satisfied: certifi>=2017.4.17 in /usr/local/lib/python3.8/dist-packages (from requests>=2.23.0->-r requirements.txt (line 13)) (2022.12.7)\n",
      "Requirement already satisfied: typing-extensions in /usr/local/lib/python3.8/dist-packages (from torch>=1.7.0->-r requirements.txt (line 16)) (4.4.0)\n",
      "Requirement already satisfied: tensorboard-data-server<0.7.0,>=0.6.0 in /usr/local/lib/python3.8/dist-packages (from tensorboard>=2.4.1->-r requirements.txt (line 22)) (0.6.1)\n",
      "Requirement already satisfied: absl-py>=0.4 in /usr/local/lib/python3.8/dist-packages (from tensorboard>=2.4.1->-r requirements.txt (line 22)) (1.4.0)\n",
      "Requirement already satisfied: grpcio>=1.24.3 in /usr/local/lib/python3.8/dist-packages (from tensorboard>=2.4.1->-r requirements.txt (line 22)) (1.51.1)\n",
      "Requirement already satisfied: werkzeug>=1.0.1 in /usr/local/lib/python3.8/dist-packages (from tensorboard>=2.4.1->-r requirements.txt (line 22)) (1.0.1)\n",
      "Requirement already satisfied: tensorboard-plugin-wit>=1.6.0 in /usr/local/lib/python3.8/dist-packages (from tensorboard>=2.4.1->-r requirements.txt (line 22)) (1.8.1)\n",
      "Requirement already satisfied: markdown>=2.6.8 in /usr/local/lib/python3.8/dist-packages (from tensorboard>=2.4.1->-r requirements.txt (line 22)) (3.4.1)\n",
      "Requirement already satisfied: wheel>=0.26 in /usr/local/lib/python3.8/dist-packages (from tensorboard>=2.4.1->-r requirements.txt (line 22)) (0.38.4)\n",
      "Requirement already satisfied: google-auth-oauthlib<0.5,>=0.4.1 in /usr/local/lib/python3.8/dist-packages (from tensorboard>=2.4.1->-r requirements.txt (line 22)) (0.4.6)\n",
      "Requirement already satisfied: protobuf<3.20,>=3.9.2 in /usr/local/lib/python3.8/dist-packages (from tensorboard>=2.4.1->-r requirements.txt (line 22)) (3.19.6)\n",
      "Requirement already satisfied: google-auth<3,>=1.6.3 in /usr/local/lib/python3.8/dist-packages (from tensorboard>=2.4.1->-r requirements.txt (line 22)) (2.16.0)\n",
      "Requirement already satisfied: pytz>=2017.3 in /usr/local/lib/python3.8/dist-packages (from pandas>=1.1.4->-r requirements.txt (line 27)) (2022.7.1)\n",
      "Collecting smmap<6,>=3.0.1\n",
      "  Downloading smmap-5.0.0-py3-none-any.whl (24 kB)\n",
      "Requirement already satisfied: rsa<5,>=3.1.4 in /usr/local/lib/python3.8/dist-packages (from google-auth<3,>=1.6.3->tensorboard>=2.4.1->-r requirements.txt (line 22)) (4.9)\n",
      "Requirement already satisfied: pyasn1-modules>=0.2.1 in /usr/local/lib/python3.8/dist-packages (from google-auth<3,>=1.6.3->tensorboard>=2.4.1->-r requirements.txt (line 22)) (0.2.8)\n",
      "Requirement already satisfied: six>=1.9.0 in /usr/local/lib/python3.8/dist-packages (from google-auth<3,>=1.6.3->tensorboard>=2.4.1->-r requirements.txt (line 22)) (1.15.0)\n",
      "Requirement already satisfied: cachetools<6.0,>=2.0.0 in /usr/local/lib/python3.8/dist-packages (from google-auth<3,>=1.6.3->tensorboard>=2.4.1->-r requirements.txt (line 22)) (5.3.0)\n",
      "Requirement already satisfied: requests-oauthlib>=0.7.0 in /usr/local/lib/python3.8/dist-packages (from google-auth-oauthlib<0.5,>=0.4.1->tensorboard>=2.4.1->-r requirements.txt (line 22)) (1.3.1)\n",
      "Requirement already satisfied: parso<0.9.0,>=0.8.0 in /usr/local/lib/python3.8/dist-packages (from jedi>=0.10->ipython->-r requirements.txt (line 6)) (0.8.3)\n",
      "Requirement already satisfied: importlib-metadata>=4.4 in /usr/local/lib/python3.8/dist-packages (from markdown>=2.6.8->tensorboard>=2.4.1->-r requirements.txt (line 22)) (6.0.0)\n",
      "Requirement already satisfied: wcwidth in /usr/local/lib/python3.8/dist-packages (from prompt-toolkit<2.1.0,>=2.0.0->ipython->-r requirements.txt (line 6)) (0.2.6)\n",
      "Requirement already satisfied: ptyprocess>=0.5 in /usr/local/lib/python3.8/dist-packages (from pexpect->ipython->-r requirements.txt (line 6)) (0.7.0)\n",
      "Requirement already satisfied: zipp>=0.5 in /usr/local/lib/python3.8/dist-packages (from importlib-metadata>=4.4->markdown>=2.6.8->tensorboard>=2.4.1->-r requirements.txt (line 22)) (3.12.0)\n",
      "Requirement already satisfied: pyasn1<0.5.0,>=0.4.6 in /usr/local/lib/python3.8/dist-packages (from pyasn1-modules>=0.2.1->google-auth<3,>=1.6.3->tensorboard>=2.4.1->-r requirements.txt (line 22)) (0.4.8)\n",
      "Requirement already satisfied: oauthlib>=3.0.0 in /usr/local/lib/python3.8/dist-packages (from requests-oauthlib>=0.7.0->google-auth-oauthlib<0.5,>=0.4.1->tensorboard>=2.4.1->-r requirements.txt (line 22)) (3.2.2)\n",
      "Installing collected packages: smmap, jedi, thop, gitdb, gitpython\n",
      "Successfully installed gitdb-4.0.10 gitpython-3.1.30 jedi-0.18.2 smmap-5.0.0 thop-0.1.1.post2209072238\n"
     ]
    }
   ],
   "source": [
    "!pip install -r requirements.txt"
   ]
  },
  {
   "cell_type": "code",
   "execution_count": 6,
   "metadata": {
    "colab": {
     "base_uri": "https://localhost:8080/"
    },
    "executionInfo": {
     "elapsed": 15,
     "status": "ok",
     "timestamp": 1675421446336,
     "user": {
      "displayName": "tru projects",
      "userId": "10140123910494422627"
     },
     "user_tz": -330
    },
    "id": "5CJaQPAxwICd",
    "outputId": "e69fc136-e870-4035-bb91-2db78f41481a"
   },
   "outputs": [
    {
     "name": "stdout",
     "output_type": "stream",
     "text": [
      "training images are :  69\n",
      "validation images are :  17\n"
     ]
    }
   ],
   "source": [
    "# arrays to store file names\n",
    "imgs = []\n",
    "xmls = []\n",
    "\n",
    "# setup directory names\n",
    "train_path = \"/content/drive/MyDrive/satellite/YoloV5/train/images\"\n",
    "val_path = \"/content/drive/MyDrive/satellite/YoloV5/valid/images\"\n",
    "crs_path = \"/content/drive/MyDrive/satellite/YoloV5/images\"\n",
    "\n",
    "train_ratio = 0.8\n",
    "val_ratio = 0.2\n",
    "\n",
    "# total count of imgs\n",
    "total_img_count = len(os.listdir(crs_path))/2\n",
    "\n",
    "# sorting count of imgs\n",
    "for (dirname,dirs, files) in os.walk(crs_path):\n",
    "#     print(files)\n",
    "    for filename in files:\n",
    "#         print(\"hello\")\n",
    "        if filename.endswith(\".txt\"):\n",
    "            xmls.append(filename)\n",
    "        else:\n",
    "            imgs.append(filename)\n",
    "\n",
    "# counting range for cycles\n",
    "count_for_train = int(len(imgs)*train_ratio)\n",
    "count_for_val = int(len(imgs)*val_ratio)\n",
    "print(\"training images are : \",count_for_train)\n",
    "print(\"validation images are : \",count_for_val)"
   ]
  },
  {
   "cell_type": "code",
   "execution_count": 7,
   "metadata": {
    "colab": {
     "base_uri": "https://localhost:8080/"
    },
    "executionInfo": {
     "elapsed": 788,
     "status": "ok",
     "timestamp": 1675421450843,
     "user": {
      "displayName": "tru projects",
      "userId": "10140123910494422627"
     },
     "user_tz": -330
    },
    "id": "E9HOCH-awMf0",
    "outputId": "7b8f3676-61c0-4b0e-a93f-b21294ed0163"
   },
   "outputs": [
    {
     "data": {
      "text/plain": [
       "87"
      ]
     },
     "execution_count": 7,
     "metadata": {},
     "output_type": "execute_result"
    }
   ],
   "source": [
    "len(imgs)"
   ]
  },
  {
   "cell_type": "code",
   "execution_count": 8,
   "metadata": {
    "colab": {
     "base_uri": "https://localhost:8080/"
    },
    "executionInfo": {
     "elapsed": 96407,
     "status": "ok",
     "timestamp": 1675421571655,
     "user": {
      "displayName": "tru projects",
      "userId": "10140123910494422627"
     },
     "user_tz": -330
    },
    "id": "xFIMwvBLwObO",
    "outputId": "dc8e28d9-9380-4739-8ac3-f869ba64bed6"
   },
   "outputs": [
    {
     "name": "stdout",
     "output_type": "stream",
     "text": [
      "images length -  1\n",
      "['Forest_16_jpg.rf.7563822cd07294c95ca07b2ccdf6e2cf.jpg'] ['Forest_16_jpg.rf.7563822cd07294c95ca07b2ccdf6e2cf.txt']\n"
     ]
    }
   ],
   "source": [
    "train_image_path = \"/content/drive/MyDrive/satellite/YoloV5/train/images\"\n",
    "train_label_path = \"/content/drive/MyDrive/satellite/YoloV5/train/labels\"\n",
    "val_image_path = \"/content/drive/MyDrive/satellite/YoloV5/valid/images\"\n",
    "val_label_path = \"/content/drive/MyDrive/satellite/YoloV5/valid/labels\"\n",
    "\n",
    "if not os.path.isdir(train_image_path):\n",
    "    os.makedirs(train_image_path)\n",
    "if not os.path.isdir(train_label_path):\n",
    "    os.makedirs(train_label_path)\n",
    "if not os.path.isdir(val_image_path):\n",
    "    os.makedirs(val_image_path)\n",
    "if not os.path.isdir(val_label_path):\n",
    "    os.makedirs(val_label_path)\n",
    "\n",
    "# cycle for train dir\n",
    "for x in range(count_for_train):\n",
    "    file_jpg = choice(imgs)\n",
    "    file_xml = file_jpg[:-4] + \".txt\"\n",
    "    \n",
    "    shutil.copy(os.path.join(crs_path,file_jpg),os.path.join(train_image_path,file_jpg))\n",
    "    shutil.copy(os.path.join(crs_path,file_xml),os.path.join(train_label_path,file_xml))\n",
    "    \n",
    "    imgs.remove(file_jpg)\n",
    "    xmls.remove(file_xml)\n",
    "    \n",
    "# cycle for test dir\n",
    "for x in range(count_for_val):\n",
    "    file_jpg = choice(imgs)\n",
    "    file_xml = file_jpg[:-4] + \".txt\"\n",
    "    \n",
    "    shutil.copy(os.path.join(crs_path,file_jpg),os.path.join(val_image_path,file_jpg))\n",
    "    shutil.copy(os.path.join(crs_path,file_xml),os.path.join(val_label_path,file_xml))\n",
    "    \n",
    "    imgs.remove(file_jpg)\n",
    "    xmls.remove(file_xml)\n",
    "\n",
    "# rest of files\n",
    "print(\"images length - \",len(imgs))\n",
    "print(imgs,xmls)\n",
    "for x in imgs:\n",
    "    file_jpg = x\n",
    "    file_xml = file_jpg[:-4] + \".txt\"\n",
    "    \n",
    "    shutil.copy(os.path.join(crs_path,file_jpg),os.path.join(val_image_path,file_jpg))\n",
    "    shutil.copy(os.path.join(crs_path,file_xml),os.path.join(val_label_path,file_xml))\n",
    "# shutil.copytree(crs_path,val_path)"
   ]
  },
  {
   "cell_type": "code",
   "execution_count": 9,
   "metadata": {
    "colab": {
     "base_uri": "https://localhost:8080/"
    },
    "executionInfo": {
     "elapsed": 59,
     "status": "ok",
     "timestamp": 1675421573824,
     "user": {
      "displayName": "tru projects",
      "userId": "10140123910494422627"
     },
     "user_tz": -330
    },
    "id": "nOQr2cnkwT8R",
    "outputId": "53ab97d4-f64f-44ca-8c92-f98b77119bdc"
   },
   "outputs": [
    {
     "name": "stdout",
     "output_type": "stream",
     "text": [
      "['train: /content/drive/MyDrive/satellite/YoloV5/train/images\\n', 'val: /content/drive/MyDrive/satellite/YoloV5/valid/images\\n', '#test: ../test/images\\n', '\\n', 'nc: 11\\n', \"names: ['Crop', 'Factory', 'Forest', 'HerbaceousVegetation', 'Highway', 'Land', 'Pasture', 'PermanentCrop', 'River', 'SeaLake', 'resident']\\n\", '\\n', 'roboflow:\\n', '  workspace: project\\n', '  project: object-detection-bkw2k\\n', '  version: 1\\n', '  license: CC BY 4.0\\n', '  url: https://universe.roboflow.com/project/object-detection-bkw2k/dataset/1']\n"
     ]
    }
   ],
   "source": [
    "with open(r'/content/drive/MyDrive/satellite/YoloV5/data.yaml', 'r') as file:\n",
    "    lines = file.readlines()\n",
    "    print(lines)"
   ]
  },
  {
   "cell_type": "code",
   "execution_count": 10,
   "metadata": {
    "colab": {
     "base_uri": "https://localhost:8080/"
    },
    "executionInfo": {
     "elapsed": 1336254,
     "status": "ok",
     "timestamp": 1675422910026,
     "user": {
      "displayName": "tru projects",
      "userId": "10140123910494422627"
     },
     "user_tz": -330
    },
    "id": "ReTz1As2wW_8",
    "outputId": "db70847a-54b2-4c6e-b9a5-9f82a552a799"
   },
   "outputs": [
    {
     "name": "stdout",
     "output_type": "stream",
     "text": [
      "/bin/bash: wandb: command not found\n",
      "\u001b[34m\u001b[1mtrain: \u001b[0mweights=yolov5s.pt, cfg=, data=/content/drive/MyDrive/satellite/YoloV5/data.yaml, hyp=data/hyps/hyp.scratch-low.yaml, epochs=100, batch_size=16, imgsz=415, rect=False, resume=False, nosave=False, noval=False, noautoanchor=False, noplots=False, evolve=None, bucket=, cache=ram, image_weights=False, device=, multi_scale=False, single_cls=False, optimizer=SGD, sync_bn=False, workers=2, project=runs/train, name=exp, exist_ok=False, quad=False, cos_lr=False, label_smoothing=0.0, patience=100, freeze=[0], save_period=-1, seed=0, local_rank=-1, entity=None, upload_dataset=False, bbox_interval=-1, artifact_alias=latest\n",
      "\u001b[34m\u001b[1mgithub: \u001b[0mup to date with https://github.com/ultralytics/yolov5 ✅\n",
      "YOLOv5 🚀 v7.0-72-g064365d Python-3.8.10 torch-1.13.1+cu116 CUDA:0 (Tesla T4, 15110MiB)\n",
      "\n",
      "\u001b[34m\u001b[1mhyperparameters: \u001b[0mlr0=0.01, lrf=0.01, momentum=0.937, weight_decay=0.0005, warmup_epochs=3.0, warmup_momentum=0.8, warmup_bias_lr=0.1, box=0.05, cls=0.5, cls_pw=1.0, obj=1.0, obj_pw=1.0, iou_t=0.2, anchor_t=4.0, fl_gamma=0.0, hsv_h=0.015, hsv_s=0.7, hsv_v=0.4, degrees=0.0, translate=0.1, scale=0.5, shear=0.0, perspective=0.0, flipud=0.0, fliplr=0.5, mosaic=1.0, mixup=0.0, copy_paste=0.0\n",
      "\u001b[34m\u001b[1mClearML: \u001b[0mrun 'pip install clearml' to automatically track, visualize and remotely train YOLOv5 🚀 in ClearML\n",
      "\u001b[34m\u001b[1mComet: \u001b[0mrun 'pip install comet_ml' to automatically track and visualize YOLOv5 🚀 runs in Comet\n",
      "\u001b[34m\u001b[1mTensorBoard: \u001b[0mStart with 'tensorboard --logdir runs/train', view at http://localhost:6006/\n",
      "Downloading https://ultralytics.com/assets/Arial.ttf to /root/.config/Ultralytics/Arial.ttf...\n",
      "100% 755k/755k [00:00<00:00, 150MB/s]\n",
      "Downloading https://github.com/ultralytics/yolov5/releases/download/v7.0/yolov5s.pt to yolov5s.pt...\n",
      "100% 14.1M/14.1M [00:00<00:00, 311MB/s]\n",
      "\n",
      "Overriding model.yaml nc=80 with nc=11\n",
      "\n",
      "                 from  n    params  module                                  arguments                     \n",
      "  0                -1  1      3520  models.common.Conv                      [3, 32, 6, 2, 2]              \n",
      "  1                -1  1     18560  models.common.Conv                      [32, 64, 3, 2]                \n",
      "  2                -1  1     18816  models.common.C3                        [64, 64, 1]                   \n",
      "  3                -1  1     73984  models.common.Conv                      [64, 128, 3, 2]               \n",
      "  4                -1  2    115712  models.common.C3                        [128, 128, 2]                 \n",
      "  5                -1  1    295424  models.common.Conv                      [128, 256, 3, 2]              \n",
      "  6                -1  3    625152  models.common.C3                        [256, 256, 3]                 \n",
      "  7                -1  1   1180672  models.common.Conv                      [256, 512, 3, 2]              \n",
      "  8                -1  1   1182720  models.common.C3                        [512, 512, 1]                 \n",
      "  9                -1  1    656896  models.common.SPPF                      [512, 512, 5]                 \n",
      " 10                -1  1    131584  models.common.Conv                      [512, 256, 1, 1]              \n",
      " 11                -1  1         0  torch.nn.modules.upsampling.Upsample    [None, 2, 'nearest']          \n",
      " 12           [-1, 6]  1         0  models.common.Concat                    [1]                           \n",
      " 13                -1  1    361984  models.common.C3                        [512, 256, 1, False]          \n",
      " 14                -1  1     33024  models.common.Conv                      [256, 128, 1, 1]              \n",
      " 15                -1  1         0  torch.nn.modules.upsampling.Upsample    [None, 2, 'nearest']          \n",
      " 16           [-1, 4]  1         0  models.common.Concat                    [1]                           \n",
      " 17                -1  1     90880  models.common.C3                        [256, 128, 1, False]          \n",
      " 18                -1  1    147712  models.common.Conv                      [128, 128, 3, 2]              \n",
      " 19          [-1, 14]  1         0  models.common.Concat                    [1]                           \n",
      " 20                -1  1    296448  models.common.C3                        [256, 256, 1, False]          \n",
      " 21                -1  1    590336  models.common.Conv                      [256, 256, 3, 2]              \n",
      " 22          [-1, 10]  1         0  models.common.Concat                    [1]                           \n",
      " 23                -1  1   1182720  models.common.C3                        [512, 512, 1, False]          \n",
      " 24      [17, 20, 23]  1     43152  models.yolo.Detect                      [11, [[10, 13, 16, 30, 33, 23], [30, 61, 62, 45, 59, 119], [116, 90, 156, 198, 373, 326]], [128, 256, 512]]\n",
      "Model summary: 214 layers, 7049296 parameters, 7049296 gradients, 16.0 GFLOPs\n",
      "\n",
      "Transferred 343/349 items from yolov5s.pt\n",
      "\u001b[34m\u001b[1mAMP: \u001b[0mchecks passed ✅\n",
      "WARNING ⚠️ --img-size 415 must be multiple of max stride 32, updating to 416\n",
      "\u001b[34m\u001b[1moptimizer:\u001b[0m SGD(lr=0.01) with parameter groups 57 weight(decay=0.0), 60 weight(decay=0.0005), 60 bias\n",
      "\u001b[34m\u001b[1malbumentations: \u001b[0mBlur(p=0.01, blur_limit=(3, 7)), MedianBlur(p=0.01, blur_limit=(3, 7)), ToGray(p=0.01), CLAHE(p=0.01, clip_limit=(1, 4.0), tile_grid_size=(8, 8))\n",
      "\u001b[34m\u001b[1mtrain: \u001b[0mScanning /content/drive/MyDrive/satellite/YoloV5/train/labels... 683 images, 0 backgrounds, 0 corrupt: 100% 683/683 [05:18<00:00,  2.14it/s]\n",
      "\u001b[34m\u001b[1mtrain: \u001b[0mNew cache created: /content/drive/MyDrive/satellite/YoloV5/train/labels.cache\n",
      "\u001b[34m\u001b[1mtrain: \u001b[0mCaching images (0.3GB ram): 100% 683/683 [00:04<00:00, 166.11it/s]\n",
      "\u001b[34m\u001b[1mval: \u001b[0mScanning /content/drive/MyDrive/satellite/YoloV5/valid/labels... 212 images, 0 backgrounds, 0 corrupt: 100% 212/212 [01:40<00:00,  2.10it/s]\n",
      "\u001b[34m\u001b[1mval: \u001b[0mNew cache created: /content/drive/MyDrive/satellite/YoloV5/valid/labels.cache\n",
      "\u001b[34m\u001b[1mval: \u001b[0mCaching images (0.1GB ram): 100% 212/212 [00:02<00:00, 98.12it/s]\n",
      "\n",
      "\u001b[34m\u001b[1mAutoAnchor: \u001b[0m3.61 anchors/target, 1.000 Best Possible Recall (BPR). Current anchors are a good fit to dataset ✅\n",
      "Plotting labels to runs/train/exp/labels.jpg... \n",
      "Image sizes 416 train, 416 val\n",
      "Using 2 dataloader workers\n",
      "Logging results to \u001b[1mruns/train/exp\u001b[0m\n",
      "Starting training for 100 epochs...\n",
      "\n",
      "      Epoch    GPU_mem   box_loss   obj_loss   cls_loss  Instances       Size\n",
      "       0/99      1.71G     0.0969    0.03004    0.06856         35        416: 100% 43/43 [00:10<00:00,  4.13it/s]\n",
      "                 Class     Images  Instances          P          R      mAP50   mAP50-95: 100% 7/7 [00:02<00:00,  2.61it/s]\n",
      "                   all        212        310    0.00383      0.667     0.0182    0.00779\n",
      "\n",
      "      Epoch    GPU_mem   box_loss   obj_loss   cls_loss  Instances       Size\n",
      "       1/99      2.07G     0.0683    0.03534    0.06242         45        416: 100% 43/43 [00:08<00:00,  4.91it/s]\n",
      "                 Class     Images  Instances          P          R      mAP50   mAP50-95: 100% 7/7 [00:01<00:00,  4.35it/s]\n",
      "                   all        212        310        0.3     0.0651     0.0406     0.0158\n",
      "\n",
      "      Epoch    GPU_mem   box_loss   obj_loss   cls_loss  Instances       Size\n",
      "       2/99      2.07G    0.06095    0.03295    0.05784         46        416: 100% 43/43 [00:06<00:00,  6.18it/s]\n",
      "                 Class     Images  Instances          P          R      mAP50   mAP50-95: 100% 7/7 [00:01<00:00,  4.79it/s]\n",
      "                   all        212        310      0.249      0.326     0.0967      0.051\n",
      "\n",
      "      Epoch    GPU_mem   box_loss   obj_loss   cls_loss  Instances       Size\n",
      "       3/99      2.07G    0.05679    0.03286    0.05435         40        416: 100% 43/43 [00:06<00:00,  6.25it/s]\n",
      "                 Class     Images  Instances          P          R      mAP50   mAP50-95: 100% 7/7 [00:01<00:00,  4.43it/s]\n",
      "                   all        212        310      0.164      0.358      0.103     0.0437\n",
      "\n",
      "      Epoch    GPU_mem   box_loss   obj_loss   cls_loss  Instances       Size\n",
      "       4/99      2.07G    0.05327    0.03315    0.05077         40        416: 100% 43/43 [00:06<00:00,  6.29it/s]\n",
      "                 Class     Images  Instances          P          R      mAP50   mAP50-95: 100% 7/7 [00:01<00:00,  4.50it/s]\n",
      "                   all        212        310      0.282      0.208      0.112     0.0626\n",
      "\n",
      "      Epoch    GPU_mem   box_loss   obj_loss   cls_loss  Instances       Size\n",
      "       5/99      2.07G    0.05213    0.03167    0.04671         34        416: 100% 43/43 [00:06<00:00,  6.32it/s]\n",
      "                 Class     Images  Instances          P          R      mAP50   mAP50-95: 100% 7/7 [00:01<00:00,  4.95it/s]\n",
      "                   all        212        310      0.366      0.331       0.21      0.103\n",
      "\n",
      "      Epoch    GPU_mem   box_loss   obj_loss   cls_loss  Instances       Size\n",
      "       6/99      2.07G    0.05035    0.03162    0.04293         35        416: 100% 43/43 [00:06<00:00,  6.40it/s]\n",
      "                 Class     Images  Instances          P          R      mAP50   mAP50-95: 100% 7/7 [00:01<00:00,  4.51it/s]\n",
      "                   all        212        310      0.372      0.319      0.201     0.0812\n",
      "\n",
      "      Epoch    GPU_mem   box_loss   obj_loss   cls_loss  Instances       Size\n",
      "       7/99      2.07G    0.04842    0.03179    0.04108         50        416: 100% 43/43 [00:06<00:00,  6.43it/s]\n",
      "                 Class     Images  Instances          P          R      mAP50   mAP50-95: 100% 7/7 [00:01<00:00,  5.00it/s]\n",
      "                   all        212        310      0.377      0.293      0.252      0.149\n",
      "\n",
      "      Epoch    GPU_mem   box_loss   obj_loss   cls_loss  Instances       Size\n",
      "       8/99      2.07G    0.04897    0.03071    0.03744         50        416: 100% 43/43 [00:06<00:00,  6.41it/s]\n",
      "                 Class     Images  Instances          P          R      mAP50   mAP50-95: 100% 7/7 [00:01<00:00,  4.88it/s]\n",
      "                   all        212        310      0.405      0.399      0.233     0.0939\n",
      "\n",
      "      Epoch    GPU_mem   box_loss   obj_loss   cls_loss  Instances       Size\n",
      "       9/99      2.07G    0.04927    0.03062    0.03721         33        416: 100% 43/43 [00:06<00:00,  6.27it/s]\n",
      "                 Class     Images  Instances          P          R      mAP50   mAP50-95: 100% 7/7 [00:01<00:00,  4.26it/s]\n",
      "                   all        212        310      0.443       0.31      0.181     0.0981\n",
      "\n",
      "      Epoch    GPU_mem   box_loss   obj_loss   cls_loss  Instances       Size\n",
      "      10/99      2.07G    0.04749    0.03066    0.03587         53        416: 100% 43/43 [00:06<00:00,  6.36it/s]\n",
      "                 Class     Images  Instances          P          R      mAP50   mAP50-95: 100% 7/7 [00:01<00:00,  4.84it/s]\n",
      "                   all        212        310      0.441      0.289      0.229      0.137\n",
      "\n",
      "      Epoch    GPU_mem   box_loss   obj_loss   cls_loss  Instances       Size\n",
      "      11/99      2.07G    0.04717    0.03178    0.03627         48        416: 100% 43/43 [00:06<00:00,  6.25it/s]\n",
      "                 Class     Images  Instances          P          R      mAP50   mAP50-95: 100% 7/7 [00:01<00:00,  5.20it/s]\n",
      "                   all        212        310      0.514      0.381      0.292       0.18\n",
      "\n",
      "      Epoch    GPU_mem   box_loss   obj_loss   cls_loss  Instances       Size\n",
      "      12/99      2.07G    0.04632    0.03005    0.03289         31        416: 100% 43/43 [00:06<00:00,  6.31it/s]\n",
      "                 Class     Images  Instances          P          R      mAP50   mAP50-95: 100% 7/7 [00:01<00:00,  5.22it/s]\n",
      "                   all        212        310      0.519      0.402      0.363      0.223\n",
      "\n",
      "      Epoch    GPU_mem   box_loss   obj_loss   cls_loss  Instances       Size\n",
      "      13/99      2.07G    0.04444    0.02942     0.0316         29        416: 100% 43/43 [00:06<00:00,  6.33it/s]\n",
      "                 Class     Images  Instances          P          R      mAP50   mAP50-95: 100% 7/7 [00:01<00:00,  5.53it/s]\n",
      "                   all        212        310      0.567      0.417      0.364      0.219\n",
      "\n",
      "      Epoch    GPU_mem   box_loss   obj_loss   cls_loss  Instances       Size\n",
      "      14/99      2.07G    0.04482    0.02994    0.03239         50        416: 100% 43/43 [00:06<00:00,  6.37it/s]\n",
      "                 Class     Images  Instances          P          R      mAP50   mAP50-95: 100% 7/7 [00:01<00:00,  5.47it/s]\n",
      "                   all        212        310      0.631      0.405      0.387      0.238\n",
      "\n",
      "      Epoch    GPU_mem   box_loss   obj_loss   cls_loss  Instances       Size\n",
      "      15/99      2.07G    0.04586    0.03051    0.03021         33        416: 100% 43/43 [00:06<00:00,  6.34it/s]\n",
      "                 Class     Images  Instances          P          R      mAP50   mAP50-95: 100% 7/7 [00:01<00:00,  5.26it/s]\n",
      "                   all        212        310      0.543      0.435      0.389      0.216\n",
      "\n",
      "      Epoch    GPU_mem   box_loss   obj_loss   cls_loss  Instances       Size\n",
      "      16/99      2.07G     0.0465    0.03147    0.02829         38        416: 100% 43/43 [00:06<00:00,  6.37it/s]\n",
      "                 Class     Images  Instances          P          R      mAP50   mAP50-95: 100% 7/7 [00:01<00:00,  5.34it/s]\n",
      "                   all        212        310      0.653      0.419      0.462      0.308\n",
      "\n",
      "      Epoch    GPU_mem   box_loss   obj_loss   cls_loss  Instances       Size\n",
      "      17/99      2.07G    0.04486    0.02824    0.03021         25        416: 100% 43/43 [00:06<00:00,  6.34it/s]\n",
      "                 Class     Images  Instances          P          R      mAP50   mAP50-95: 100% 7/7 [00:01<00:00,  5.41it/s]\n",
      "                   all        212        310      0.558      0.451      0.369      0.212\n",
      "\n",
      "      Epoch    GPU_mem   box_loss   obj_loss   cls_loss  Instances       Size\n",
      "      18/99      2.07G    0.04479    0.02903    0.02842         31        416: 100% 43/43 [00:06<00:00,  6.25it/s]\n",
      "                 Class     Images  Instances          P          R      mAP50   mAP50-95: 100% 7/7 [00:01<00:00,  5.31it/s]\n",
      "                   all        212        310      0.616      0.467      0.448      0.254\n",
      "\n",
      "      Epoch    GPU_mem   box_loss   obj_loss   cls_loss  Instances       Size\n",
      "      19/99      2.07G    0.04476    0.03068    0.02719         44        416: 100% 43/43 [00:06<00:00,  6.19it/s]\n",
      "                 Class     Images  Instances          P          R      mAP50   mAP50-95: 100% 7/7 [00:01<00:00,  5.37it/s]\n",
      "                   all        212        310      0.679      0.479      0.497      0.285\n",
      "\n",
      "      Epoch    GPU_mem   box_loss   obj_loss   cls_loss  Instances       Size\n",
      "      20/99      2.07G    0.04412    0.03005     0.0271         40        416: 100% 43/43 [00:06<00:00,  6.30it/s]\n",
      "                 Class     Images  Instances          P          R      mAP50   mAP50-95: 100% 7/7 [00:01<00:00,  5.28it/s]\n",
      "                   all        212        310      0.625      0.472      0.473      0.255\n",
      "\n",
      "      Epoch    GPU_mem   box_loss   obj_loss   cls_loss  Instances       Size\n",
      "      21/99      2.07G    0.04326    0.02962    0.02718         33        416: 100% 43/43 [00:06<00:00,  6.34it/s]\n",
      "                 Class     Images  Instances          P          R      mAP50   mAP50-95: 100% 7/7 [00:01<00:00,  5.23it/s]\n",
      "                   all        212        310      0.719      0.495      0.533      0.304\n",
      "\n",
      "      Epoch    GPU_mem   box_loss   obj_loss   cls_loss  Instances       Size\n",
      "      22/99      2.07G    0.04303    0.03035    0.02542         43        416: 100% 43/43 [00:06<00:00,  6.29it/s]\n",
      "                 Class     Images  Instances          P          R      mAP50   mAP50-95: 100% 7/7 [00:01<00:00,  5.23it/s]\n",
      "                   all        212        310       0.58      0.484      0.489      0.291\n",
      "\n",
      "      Epoch    GPU_mem   box_loss   obj_loss   cls_loss  Instances       Size\n",
      "      23/99      2.07G    0.04382    0.02863    0.02605         25        416: 100% 43/43 [00:06<00:00,  6.27it/s]\n",
      "                 Class     Images  Instances          P          R      mAP50   mAP50-95: 100% 7/7 [00:01<00:00,  5.33it/s]\n",
      "                   all        212        310      0.646      0.425       0.46      0.263\n",
      "\n",
      "      Epoch    GPU_mem   box_loss   obj_loss   cls_loss  Instances       Size\n",
      "      24/99      2.07G    0.04327    0.02896    0.02475         34        416: 100% 43/43 [00:06<00:00,  6.24it/s]\n",
      "                 Class     Images  Instances          P          R      mAP50   mAP50-95: 100% 7/7 [00:01<00:00,  5.34it/s]\n",
      "                   all        212        310      0.575      0.535      0.529      0.264\n",
      "\n",
      "      Epoch    GPU_mem   box_loss   obj_loss   cls_loss  Instances       Size\n",
      "      25/99      2.07G    0.04237    0.02842    0.02536         43        416: 100% 43/43 [00:06<00:00,  6.28it/s]\n",
      "                 Class     Images  Instances          P          R      mAP50   mAP50-95: 100% 7/7 [00:01<00:00,  5.34it/s]\n",
      "                   all        212        310      0.523      0.491      0.436       0.26\n",
      "\n",
      "      Epoch    GPU_mem   box_loss   obj_loss   cls_loss  Instances       Size\n",
      "      26/99      2.07G    0.04226    0.02915    0.02377         48        416: 100% 43/43 [00:08<00:00,  5.04it/s]\n",
      "                 Class     Images  Instances          P          R      mAP50   mAP50-95: 100% 7/7 [00:01<00:00,  4.67it/s]\n",
      "                   all        212        310      0.588      0.518      0.524      0.316\n",
      "\n",
      "      Epoch    GPU_mem   box_loss   obj_loss   cls_loss  Instances       Size\n",
      "      27/99      2.07G    0.04333    0.02977    0.02505         47        416: 100% 43/43 [00:06<00:00,  6.43it/s]\n",
      "                 Class     Images  Instances          P          R      mAP50   mAP50-95: 100% 7/7 [00:01<00:00,  5.34it/s]\n",
      "                   all        212        310      0.645      0.571       0.58      0.364\n",
      "\n",
      "      Epoch    GPU_mem   box_loss   obj_loss   cls_loss  Instances       Size\n",
      "      28/99      2.07G    0.04214     0.0288    0.02435         39        416: 100% 43/43 [00:06<00:00,  6.41it/s]\n",
      "                 Class     Images  Instances          P          R      mAP50   mAP50-95: 100% 7/7 [00:01<00:00,  5.37it/s]\n",
      "                   all        212        310      0.585      0.488      0.491      0.304\n",
      "\n",
      "      Epoch    GPU_mem   box_loss   obj_loss   cls_loss  Instances       Size\n",
      "      29/99      2.07G    0.04132    0.02795    0.02132         41        416: 100% 43/43 [00:06<00:00,  6.47it/s]\n",
      "                 Class     Images  Instances          P          R      mAP50   mAP50-95: 100% 7/7 [00:01<00:00,  5.49it/s]\n",
      "                   all        212        310      0.595      0.549      0.562      0.343\n",
      "\n",
      "      Epoch    GPU_mem   box_loss   obj_loss   cls_loss  Instances       Size\n",
      "      30/99      2.07G    0.04168    0.02884    0.02237         40        416: 100% 43/43 [00:06<00:00,  6.40it/s]\n",
      "                 Class     Images  Instances          P          R      mAP50   mAP50-95: 100% 7/7 [00:01<00:00,  5.40it/s]\n",
      "                   all        212        310      0.663      0.557      0.581      0.355\n",
      "\n",
      "      Epoch    GPU_mem   box_loss   obj_loss   cls_loss  Instances       Size\n",
      "      31/99      2.07G    0.04261    0.02892    0.02346         53        416: 100% 43/43 [00:06<00:00,  6.35it/s]\n",
      "                 Class     Images  Instances          P          R      mAP50   mAP50-95: 100% 7/7 [00:01<00:00,  5.34it/s]\n",
      "                   all        212        310      0.595      0.553      0.549      0.347\n",
      "\n",
      "      Epoch    GPU_mem   box_loss   obj_loss   cls_loss  Instances       Size\n",
      "      32/99      2.07G    0.04118    0.02856    0.02253         47        416: 100% 43/43 [00:06<00:00,  6.27it/s]\n",
      "                 Class     Images  Instances          P          R      mAP50   mAP50-95: 100% 7/7 [00:01<00:00,  5.28it/s]\n",
      "                   all        212        310      0.703      0.523       0.57      0.342\n",
      "\n",
      "      Epoch    GPU_mem   box_loss   obj_loss   cls_loss  Instances       Size\n",
      "      33/99      2.07G    0.04222    0.02876    0.02184         41        416: 100% 43/43 [00:06<00:00,  6.22it/s]\n",
      "                 Class     Images  Instances          P          R      mAP50   mAP50-95: 100% 7/7 [00:01<00:00,  5.43it/s]\n",
      "                   all        212        310      0.597      0.553      0.552      0.333\n",
      "\n",
      "      Epoch    GPU_mem   box_loss   obj_loss   cls_loss  Instances       Size\n",
      "      34/99      2.07G    0.04094     0.0287    0.02121         54        416: 100% 43/43 [00:06<00:00,  6.31it/s]\n",
      "                 Class     Images  Instances          P          R      mAP50   mAP50-95: 100% 7/7 [00:01<00:00,  5.39it/s]\n",
      "                   all        212        310      0.576      0.557      0.554      0.346\n",
      "\n",
      "      Epoch    GPU_mem   box_loss   obj_loss   cls_loss  Instances       Size\n",
      "      35/99      2.07G    0.04067    0.02829    0.01957         46        416: 100% 43/43 [00:06<00:00,  6.38it/s]\n",
      "                 Class     Images  Instances          P          R      mAP50   mAP50-95: 100% 7/7 [00:01<00:00,  5.31it/s]\n",
      "                   all        212        310       0.61      0.506       0.53      0.318\n",
      "\n",
      "      Epoch    GPU_mem   box_loss   obj_loss   cls_loss  Instances       Size\n",
      "      36/99      2.07G    0.03995    0.02941    0.01933         35        416: 100% 43/43 [00:06<00:00,  6.29it/s]\n",
      "                 Class     Images  Instances          P          R      mAP50   mAP50-95: 100% 7/7 [00:01<00:00,  5.42it/s]\n",
      "                   all        212        310       0.66      0.577      0.574       0.34\n",
      "\n",
      "      Epoch    GPU_mem   box_loss   obj_loss   cls_loss  Instances       Size\n",
      "      37/99      2.07G     0.0413    0.02788     0.0199         46        416: 100% 43/43 [00:06<00:00,  6.30it/s]\n",
      "                 Class     Images  Instances          P          R      mAP50   mAP50-95: 100% 7/7 [00:01<00:00,  5.43it/s]\n",
      "                   all        212        310       0.58      0.538      0.522      0.312\n",
      "\n",
      "      Epoch    GPU_mem   box_loss   obj_loss   cls_loss  Instances       Size\n",
      "      38/99      2.07G    0.04111    0.02867    0.02041         38        416: 100% 43/43 [00:06<00:00,  6.25it/s]\n",
      "                 Class     Images  Instances          P          R      mAP50   mAP50-95: 100% 7/7 [00:01<00:00,  5.25it/s]\n",
      "                   all        212        310      0.632      0.574      0.557      0.341\n",
      "\n",
      "      Epoch    GPU_mem   box_loss   obj_loss   cls_loss  Instances       Size\n",
      "      39/99      2.07G     0.0395    0.02762    0.01941         47        416: 100% 43/43 [00:06<00:00,  6.30it/s]\n",
      "                 Class     Images  Instances          P          R      mAP50   mAP50-95: 100% 7/7 [00:01<00:00,  5.36it/s]\n",
      "                   all        212        310      0.651      0.567       0.58      0.337\n",
      "\n",
      "      Epoch    GPU_mem   box_loss   obj_loss   cls_loss  Instances       Size\n",
      "      40/99      2.07G    0.04057    0.02931    0.01967         51        416: 100% 43/43 [00:06<00:00,  6.26it/s]\n",
      "                 Class     Images  Instances          P          R      mAP50   mAP50-95: 100% 7/7 [00:01<00:00,  5.34it/s]\n",
      "                   all        212        310      0.631      0.559      0.566      0.349\n",
      "\n",
      "      Epoch    GPU_mem   box_loss   obj_loss   cls_loss  Instances       Size\n",
      "      41/99      2.07G    0.03963    0.02942    0.02017         32        416: 100% 43/43 [00:06<00:00,  6.27it/s]\n",
      "                 Class     Images  Instances          P          R      mAP50   mAP50-95: 100% 7/7 [00:01<00:00,  5.45it/s]\n",
      "                   all        212        310      0.538      0.538      0.529      0.332\n",
      "\n",
      "      Epoch    GPU_mem   box_loss   obj_loss   cls_loss  Instances       Size\n",
      "      42/99      2.07G    0.03993    0.02844    0.01942         32        416: 100% 43/43 [00:06<00:00,  6.34it/s]\n",
      "                 Class     Images  Instances          P          R      mAP50   mAP50-95: 100% 7/7 [00:01<00:00,  5.39it/s]\n",
      "                   all        212        310      0.666      0.582      0.585      0.353\n",
      "\n",
      "      Epoch    GPU_mem   box_loss   obj_loss   cls_loss  Instances       Size\n",
      "      43/99      2.07G    0.04049    0.02849     0.0189         39        416: 100% 43/43 [00:06<00:00,  6.24it/s]\n",
      "                 Class     Images  Instances          P          R      mAP50   mAP50-95: 100% 7/7 [00:01<00:00,  5.22it/s]\n",
      "                   all        212        310      0.636      0.588      0.563      0.362\n",
      "\n",
      "      Epoch    GPU_mem   box_loss   obj_loss   cls_loss  Instances       Size\n",
      "      44/99      2.07G    0.03932    0.02651    0.01786         37        416: 100% 43/43 [00:06<00:00,  6.26it/s]\n",
      "                 Class     Images  Instances          P          R      mAP50   mAP50-95: 100% 7/7 [00:01<00:00,  5.25it/s]\n",
      "                   all        212        310      0.639      0.562      0.556      0.331\n",
      "\n",
      "      Epoch    GPU_mem   box_loss   obj_loss   cls_loss  Instances       Size\n",
      "      45/99      2.07G    0.04024     0.0288    0.01766         37        416: 100% 43/43 [00:06<00:00,  6.27it/s]\n",
      "                 Class     Images  Instances          P          R      mAP50   mAP50-95: 100% 7/7 [00:01<00:00,  5.36it/s]\n",
      "                   all        212        310      0.665      0.613      0.591      0.368\n",
      "\n",
      "      Epoch    GPU_mem   box_loss   obj_loss   cls_loss  Instances       Size\n",
      "      46/99      2.07G    0.03901    0.02742    0.01857         35        416: 100% 43/43 [00:06<00:00,  6.37it/s]\n",
      "                 Class     Images  Instances          P          R      mAP50   mAP50-95: 100% 7/7 [00:01<00:00,  5.24it/s]\n",
      "                   all        212        310      0.692      0.564      0.579      0.385\n",
      "\n",
      "      Epoch    GPU_mem   box_loss   obj_loss   cls_loss  Instances       Size\n",
      "      47/99      2.07G    0.03762    0.02667    0.01869         30        416: 100% 43/43 [00:06<00:00,  6.22it/s]\n",
      "                 Class     Images  Instances          P          R      mAP50   mAP50-95: 100% 7/7 [00:01<00:00,  5.37it/s]\n",
      "                   all        212        310      0.627      0.547      0.566      0.363\n",
      "\n",
      "      Epoch    GPU_mem   box_loss   obj_loss   cls_loss  Instances       Size\n",
      "      48/99      2.07G     0.0395    0.02716    0.01752         36        416: 100% 43/43 [00:06<00:00,  6.29it/s]\n",
      "                 Class     Images  Instances          P          R      mAP50   mAP50-95: 100% 7/7 [00:01<00:00,  5.40it/s]\n",
      "                   all        212        310      0.654      0.597      0.585      0.367\n",
      "\n",
      "      Epoch    GPU_mem   box_loss   obj_loss   cls_loss  Instances       Size\n",
      "      49/99      2.07G    0.03831    0.02693    0.01748         38        416: 100% 43/43 [00:06<00:00,  6.37it/s]\n",
      "                 Class     Images  Instances          P          R      mAP50   mAP50-95: 100% 7/7 [00:01<00:00,  5.32it/s]\n",
      "                   all        212        310      0.701      0.597      0.624      0.395\n",
      "\n",
      "      Epoch    GPU_mem   box_loss   obj_loss   cls_loss  Instances       Size\n",
      "      50/99      2.07G    0.03946      0.027    0.01848         38        416: 100% 43/43 [00:06<00:00,  6.36it/s]\n",
      "                 Class     Images  Instances          P          R      mAP50   mAP50-95: 100% 7/7 [00:01<00:00,  5.37it/s]\n",
      "                   all        212        310      0.747      0.552      0.613      0.393\n",
      "\n",
      "      Epoch    GPU_mem   box_loss   obj_loss   cls_loss  Instances       Size\n",
      "      51/99      2.07G    0.03898    0.02704    0.01594         33        416: 100% 43/43 [00:06<00:00,  6.32it/s]\n",
      "                 Class     Images  Instances          P          R      mAP50   mAP50-95: 100% 7/7 [00:01<00:00,  5.25it/s]\n",
      "                   all        212        310      0.673      0.565      0.595      0.366\n",
      "\n",
      "      Epoch    GPU_mem   box_loss   obj_loss   cls_loss  Instances       Size\n",
      "      52/99      2.07G    0.03831    0.02736    0.01789         39        416: 100% 43/43 [00:08<00:00,  4.83it/s]\n",
      "                 Class     Images  Instances          P          R      mAP50   mAP50-95: 100% 7/7 [00:01<00:00,  5.27it/s]\n",
      "                   all        212        310      0.722      0.515      0.594      0.377\n",
      "\n",
      "      Epoch    GPU_mem   box_loss   obj_loss   cls_loss  Instances       Size\n",
      "      53/99      2.07G    0.03781    0.02682    0.01599         41        416: 100% 43/43 [00:06<00:00,  6.23it/s]\n",
      "                 Class     Images  Instances          P          R      mAP50   mAP50-95: 100% 7/7 [00:01<00:00,  5.39it/s]\n",
      "                   all        212        310      0.688      0.553      0.596      0.378\n",
      "\n",
      "      Epoch    GPU_mem   box_loss   obj_loss   cls_loss  Instances       Size\n",
      "      54/99      2.07G    0.03742    0.02618    0.01512         42        416: 100% 43/43 [00:06<00:00,  6.21it/s]\n",
      "                 Class     Images  Instances          P          R      mAP50   mAP50-95: 100% 7/7 [00:01<00:00,  5.32it/s]\n",
      "                   all        212        310      0.679      0.583      0.622      0.373\n",
      "\n",
      "      Epoch    GPU_mem   box_loss   obj_loss   cls_loss  Instances       Size\n",
      "      55/99      2.07G    0.03733    0.02742    0.01672         53        416: 100% 43/43 [00:06<00:00,  6.17it/s]\n",
      "                 Class     Images  Instances          P          R      mAP50   mAP50-95: 100% 7/7 [00:01<00:00,  5.38it/s]\n",
      "                   all        212        310      0.664       0.61      0.632      0.399\n",
      "\n",
      "      Epoch    GPU_mem   box_loss   obj_loss   cls_loss  Instances       Size\n",
      "      56/99      2.07G    0.03747    0.02648    0.01615         42        416: 100% 43/43 [00:06<00:00,  6.23it/s]\n",
      "                 Class     Images  Instances          P          R      mAP50   mAP50-95: 100% 7/7 [00:01<00:00,  5.19it/s]\n",
      "                   all        212        310      0.693      0.612       0.66      0.404\n",
      "\n",
      "      Epoch    GPU_mem   box_loss   obj_loss   cls_loss  Instances       Size\n",
      "      57/99      2.07G    0.03663    0.02773    0.01548         47        416: 100% 43/43 [00:06<00:00,  6.16it/s]\n",
      "                 Class     Images  Instances          P          R      mAP50   mAP50-95: 100% 7/7 [00:01<00:00,  5.17it/s]\n",
      "                   all        212        310      0.704      0.623      0.657       0.41\n",
      "\n",
      "      Epoch    GPU_mem   box_loss   obj_loss   cls_loss  Instances       Size\n",
      "      58/99      2.07G    0.03759    0.02735    0.01553         30        416: 100% 43/43 [00:06<00:00,  6.28it/s]\n",
      "                 Class     Images  Instances          P          R      mAP50   mAP50-95: 100% 7/7 [00:01<00:00,  5.37it/s]\n",
      "                   all        212        310      0.705      0.631      0.677      0.418\n",
      "\n",
      "      Epoch    GPU_mem   box_loss   obj_loss   cls_loss  Instances       Size\n",
      "      59/99      2.07G    0.03922    0.02782     0.0139         36        416: 100% 43/43 [00:06<00:00,  6.23it/s]\n",
      "                 Class     Images  Instances          P          R      mAP50   mAP50-95: 100% 7/7 [00:01<00:00,  5.38it/s]\n",
      "                   all        212        310      0.741      0.591      0.666      0.403\n",
      "\n",
      "      Epoch    GPU_mem   box_loss   obj_loss   cls_loss  Instances       Size\n",
      "      60/99      2.07G    0.03702    0.02665    0.01372         40        416: 100% 43/43 [00:06<00:00,  6.24it/s]\n",
      "                 Class     Images  Instances          P          R      mAP50   mAP50-95: 100% 7/7 [00:01<00:00,  5.33it/s]\n",
      "                   all        212        310      0.666      0.606      0.613      0.384\n",
      "\n",
      "      Epoch    GPU_mem   box_loss   obj_loss   cls_loss  Instances       Size\n",
      "      61/99      2.07G    0.03767    0.02718    0.01476         33        416: 100% 43/43 [00:06<00:00,  6.25it/s]\n",
      "                 Class     Images  Instances          P          R      mAP50   mAP50-95: 100% 7/7 [00:01<00:00,  5.39it/s]\n",
      "                   all        212        310      0.725       0.58      0.622      0.394\n",
      "\n",
      "      Epoch    GPU_mem   box_loss   obj_loss   cls_loss  Instances       Size\n",
      "      62/99      2.07G    0.03629    0.02733    0.01603         49        416: 100% 43/43 [00:06<00:00,  6.34it/s]\n",
      "                 Class     Images  Instances          P          R      mAP50   mAP50-95: 100% 7/7 [00:01<00:00,  5.50it/s]\n",
      "                   all        212        310      0.699      0.594      0.634      0.401\n",
      "\n",
      "      Epoch    GPU_mem   box_loss   obj_loss   cls_loss  Instances       Size\n",
      "      63/99      2.07G     0.0365    0.02689     0.0176         42        416: 100% 43/43 [00:06<00:00,  6.37it/s]\n",
      "                 Class     Images  Instances          P          R      mAP50   mAP50-95: 100% 7/7 [00:01<00:00,  5.45it/s]\n",
      "                   all        212        310      0.646        0.6      0.628      0.398\n",
      "\n",
      "      Epoch    GPU_mem   box_loss   obj_loss   cls_loss  Instances       Size\n",
      "      64/99      2.07G    0.03631    0.02757    0.01486         45        416: 100% 43/43 [00:06<00:00,  6.34it/s]\n",
      "                 Class     Images  Instances          P          R      mAP50   mAP50-95: 100% 7/7 [00:01<00:00,  5.51it/s]\n",
      "                   all        212        310      0.705      0.619      0.651      0.404\n",
      "\n",
      "      Epoch    GPU_mem   box_loss   obj_loss   cls_loss  Instances       Size\n",
      "      65/99      2.07G    0.03708    0.02753    0.01241         40        416: 100% 43/43 [00:06<00:00,  6.31it/s]\n",
      "                 Class     Images  Instances          P          R      mAP50   mAP50-95: 100% 7/7 [00:01<00:00,  5.32it/s]\n",
      "                   all        212        310      0.734       0.62      0.652      0.405\n",
      "\n",
      "      Epoch    GPU_mem   box_loss   obj_loss   cls_loss  Instances       Size\n",
      "      66/99      2.07G    0.03687    0.02706    0.01424         39        416: 100% 43/43 [00:06<00:00,  6.28it/s]\n",
      "                 Class     Images  Instances          P          R      mAP50   mAP50-95: 100% 7/7 [00:01<00:00,  5.27it/s]\n",
      "                   all        212        310      0.726      0.651      0.694      0.433\n",
      "\n",
      "      Epoch    GPU_mem   box_loss   obj_loss   cls_loss  Instances       Size\n",
      "      67/99      2.07G    0.03614    0.02687    0.01298         37        416: 100% 43/43 [00:06<00:00,  6.25it/s]\n",
      "                 Class     Images  Instances          P          R      mAP50   mAP50-95: 100% 7/7 [00:01<00:00,  5.43it/s]\n",
      "                   all        212        310      0.704      0.605      0.654      0.417\n",
      "\n",
      "      Epoch    GPU_mem   box_loss   obj_loss   cls_loss  Instances       Size\n",
      "      68/99      2.07G    0.03621    0.02619    0.01361         37        416: 100% 43/43 [00:06<00:00,  6.28it/s]\n",
      "                 Class     Images  Instances          P          R      mAP50   mAP50-95: 100% 7/7 [00:01<00:00,  5.29it/s]\n",
      "                   all        212        310      0.729      0.617      0.642       0.41\n",
      "\n",
      "      Epoch    GPU_mem   box_loss   obj_loss   cls_loss  Instances       Size\n",
      "      69/99      2.07G     0.0354    0.02719    0.01209         31        416: 100% 43/43 [00:06<00:00,  6.27it/s]\n",
      "                 Class     Images  Instances          P          R      mAP50   mAP50-95: 100% 7/7 [00:01<00:00,  5.47it/s]\n",
      "                   all        212        310      0.699      0.636      0.674      0.418\n",
      "\n",
      "      Epoch    GPU_mem   box_loss   obj_loss   cls_loss  Instances       Size\n",
      "      70/99      2.07G    0.03593    0.02694    0.01356         41        416: 100% 43/43 [00:06<00:00,  6.42it/s]\n",
      "                 Class     Images  Instances          P          R      mAP50   mAP50-95: 100% 7/7 [00:01<00:00,  5.34it/s]\n",
      "                   all        212        310      0.699      0.591       0.64       0.41\n",
      "\n",
      "      Epoch    GPU_mem   box_loss   obj_loss   cls_loss  Instances       Size\n",
      "      71/99      2.07G    0.03604    0.02694    0.01454         44        416: 100% 43/43 [00:06<00:00,  6.41it/s]\n",
      "                 Class     Images  Instances          P          R      mAP50   mAP50-95: 100% 7/7 [00:01<00:00,  5.39it/s]\n",
      "                   all        212        310      0.689      0.594      0.665      0.419\n",
      "\n",
      "      Epoch    GPU_mem   box_loss   obj_loss   cls_loss  Instances       Size\n",
      "      72/99      2.07G    0.03529    0.02668     0.0133         41        416: 100% 43/43 [00:06<00:00,  6.29it/s]\n",
      "                 Class     Images  Instances          P          R      mAP50   mAP50-95: 100% 7/7 [00:01<00:00,  5.47it/s]\n",
      "                   all        212        310      0.715      0.612       0.68      0.429\n",
      "\n",
      "      Epoch    GPU_mem   box_loss   obj_loss   cls_loss  Instances       Size\n",
      "      73/99      2.07G    0.03446    0.02636    0.01129         38        416: 100% 43/43 [00:06<00:00,  6.34it/s]\n",
      "                 Class     Images  Instances          P          R      mAP50   mAP50-95: 100% 7/7 [00:01<00:00,  5.45it/s]\n",
      "                   all        212        310      0.771      0.628      0.697      0.434\n",
      "\n",
      "      Epoch    GPU_mem   box_loss   obj_loss   cls_loss  Instances       Size\n",
      "      74/99      2.07G    0.03489    0.02691    0.01184         44        416: 100% 43/43 [00:06<00:00,  6.18it/s]\n",
      "                 Class     Images  Instances          P          R      mAP50   mAP50-95: 100% 7/7 [00:01<00:00,  5.35it/s]\n",
      "                   all        212        310      0.765      0.629      0.653      0.418\n",
      "\n",
      "      Epoch    GPU_mem   box_loss   obj_loss   cls_loss  Instances       Size\n",
      "      75/99      2.07G    0.03533     0.0263    0.01176         45        416: 100% 43/43 [00:06<00:00,  6.18it/s]\n",
      "                 Class     Images  Instances          P          R      mAP50   mAP50-95: 100% 7/7 [00:01<00:00,  5.29it/s]\n",
      "                   all        212        310      0.772      0.604      0.662      0.427\n",
      "\n",
      "      Epoch    GPU_mem   box_loss   obj_loss   cls_loss  Instances       Size\n",
      "      76/99      2.07G    0.03485    0.02691     0.0106         35        416: 100% 43/43 [00:06<00:00,  6.20it/s]\n",
      "                 Class     Images  Instances          P          R      mAP50   mAP50-95: 100% 7/7 [00:01<00:00,  5.38it/s]\n",
      "                   all        212        310      0.706      0.621      0.662      0.421\n",
      "\n",
      "      Epoch    GPU_mem   box_loss   obj_loss   cls_loss  Instances       Size\n",
      "      77/99      2.07G    0.03479    0.02548    0.01266         38        416: 100% 43/43 [00:07<00:00,  5.40it/s]\n",
      "                 Class     Images  Instances          P          R      mAP50   mAP50-95: 100% 7/7 [00:01<00:00,  3.84it/s]\n",
      "                   all        212        310      0.717      0.619      0.655      0.413\n",
      "\n",
      "      Epoch    GPU_mem   box_loss   obj_loss   cls_loss  Instances       Size\n",
      "      78/99      2.07G    0.03474    0.02638     0.0106         46        416: 100% 43/43 [00:06<00:00,  6.35it/s]\n",
      "                 Class     Images  Instances          P          R      mAP50   mAP50-95: 100% 7/7 [00:01<00:00,  5.49it/s]\n",
      "                   all        212        310      0.682      0.623      0.645      0.418\n",
      "\n",
      "      Epoch    GPU_mem   box_loss   obj_loss   cls_loss  Instances       Size\n",
      "      79/99      2.07G    0.03527    0.02705     0.0115         36        416: 100% 43/43 [00:06<00:00,  6.25it/s]\n",
      "                 Class     Images  Instances          P          R      mAP50   mAP50-95: 100% 7/7 [00:01<00:00,  5.32it/s]\n",
      "                   all        212        310      0.752      0.652      0.682      0.429\n",
      "\n",
      "      Epoch    GPU_mem   box_loss   obj_loss   cls_loss  Instances       Size\n",
      "      80/99      2.07G    0.03444    0.02637    0.01126         49        416: 100% 43/43 [00:06<00:00,  6.22it/s]\n",
      "                 Class     Images  Instances          P          R      mAP50   mAP50-95: 100% 7/7 [00:01<00:00,  5.23it/s]\n",
      "                   all        212        310      0.762      0.607      0.659      0.423\n",
      "\n",
      "      Epoch    GPU_mem   box_loss   obj_loss   cls_loss  Instances       Size\n",
      "      81/99      2.07G    0.03425    0.02673      0.011         46        416: 100% 43/43 [00:06<00:00,  6.17it/s]\n",
      "                 Class     Images  Instances          P          R      mAP50   mAP50-95: 100% 7/7 [00:01<00:00,  5.38it/s]\n",
      "                   all        212        310      0.734      0.594      0.655      0.411\n",
      "\n",
      "      Epoch    GPU_mem   box_loss   obj_loss   cls_loss  Instances       Size\n",
      "      82/99      2.07G    0.03375    0.02506    0.01192         35        416: 100% 43/43 [00:06<00:00,  6.22it/s]\n",
      "                 Class     Images  Instances          P          R      mAP50   mAP50-95: 100% 7/7 [00:01<00:00,  5.32it/s]\n",
      "                   all        212        310      0.749       0.63       0.69      0.433\n",
      "\n",
      "      Epoch    GPU_mem   box_loss   obj_loss   cls_loss  Instances       Size\n",
      "      83/99      2.07G    0.03418    0.02569   0.009889         40        416: 100% 43/43 [00:06<00:00,  6.17it/s]\n",
      "                 Class     Images  Instances          P          R      mAP50   mAP50-95: 100% 7/7 [00:01<00:00,  5.31it/s]\n",
      "                   all        212        310      0.708      0.669      0.691      0.436\n",
      "\n",
      "      Epoch    GPU_mem   box_loss   obj_loss   cls_loss  Instances       Size\n",
      "      84/99      2.07G    0.03387    0.02762    0.01124         38        416: 100% 43/43 [00:06<00:00,  6.19it/s]\n",
      "                 Class     Images  Instances          P          R      mAP50   mAP50-95: 100% 7/7 [00:01<00:00,  5.23it/s]\n",
      "                   all        212        310      0.721       0.65      0.704      0.436\n",
      "\n",
      "      Epoch    GPU_mem   box_loss   obj_loss   cls_loss  Instances       Size\n",
      "      85/99      2.07G    0.03323    0.02573    0.01069         34        416: 100% 43/43 [00:06<00:00,  6.21it/s]\n",
      "                 Class     Images  Instances          P          R      mAP50   mAP50-95: 100% 7/7 [00:01<00:00,  5.47it/s]\n",
      "                   all        212        310      0.752      0.632      0.705      0.447\n",
      "\n",
      "      Epoch    GPU_mem   box_loss   obj_loss   cls_loss  Instances       Size\n",
      "      86/99      2.07G    0.03262    0.02527   0.009336         39        416: 100% 43/43 [00:06<00:00,  6.23it/s]\n",
      "                 Class     Images  Instances          P          R      mAP50   mAP50-95: 100% 7/7 [00:01<00:00,  5.34it/s]\n",
      "                   all        212        310      0.705       0.67      0.695      0.443\n",
      "\n",
      "      Epoch    GPU_mem   box_loss   obj_loss   cls_loss  Instances       Size\n",
      "      87/99      2.07G    0.03268    0.02546    0.01049         58        416: 100% 43/43 [00:06<00:00,  6.26it/s]\n",
      "                 Class     Images  Instances          P          R      mAP50   mAP50-95: 100% 7/7 [00:01<00:00,  5.33it/s]\n",
      "                   all        212        310      0.734      0.636      0.695      0.446\n",
      "\n",
      "      Epoch    GPU_mem   box_loss   obj_loss   cls_loss  Instances       Size\n",
      "      88/99      2.07G    0.03305    0.02612   0.009693         43        416: 100% 43/43 [00:07<00:00,  6.09it/s]\n",
      "                 Class     Images  Instances          P          R      mAP50   mAP50-95: 100% 7/7 [00:01<00:00,  5.15it/s]\n",
      "                   all        212        310      0.765      0.616      0.697      0.445\n",
      "\n",
      "      Epoch    GPU_mem   box_loss   obj_loss   cls_loss  Instances       Size\n",
      "      89/99      2.07G    0.03279    0.02605   0.009982         33        416: 100% 43/43 [00:06<00:00,  6.16it/s]\n",
      "                 Class     Images  Instances          P          R      mAP50   mAP50-95: 100% 7/7 [00:01<00:00,  5.33it/s]\n",
      "                   all        212        310      0.758       0.64      0.708      0.451\n",
      "\n",
      "      Epoch    GPU_mem   box_loss   obj_loss   cls_loss  Instances       Size\n",
      "      90/99      2.07G    0.03318    0.02558    0.01059         45        416: 100% 43/43 [00:06<00:00,  6.17it/s]\n",
      "                 Class     Images  Instances          P          R      mAP50   mAP50-95: 100% 7/7 [00:01<00:00,  5.45it/s]\n",
      "                   all        212        310      0.683        0.7      0.701      0.448\n",
      "\n",
      "      Epoch    GPU_mem   box_loss   obj_loss   cls_loss  Instances       Size\n",
      "      91/99      2.07G    0.03346    0.02657    0.01012         40        416: 100% 43/43 [00:06<00:00,  6.16it/s]\n",
      "                 Class     Images  Instances          P          R      mAP50   mAP50-95: 100% 7/7 [00:01<00:00,  5.42it/s]\n",
      "                   all        212        310      0.688      0.708      0.706      0.458\n",
      "\n",
      "      Epoch    GPU_mem   box_loss   obj_loss   cls_loss  Instances       Size\n",
      "      92/99      2.07G    0.03191    0.02464   0.009542         35        416: 100% 43/43 [00:06<00:00,  6.26it/s]\n",
      "                 Class     Images  Instances          P          R      mAP50   mAP50-95: 100% 7/7 [00:01<00:00,  5.36it/s]\n",
      "                   all        212        310      0.695      0.688      0.714      0.456\n",
      "\n",
      "      Epoch    GPU_mem   box_loss   obj_loss   cls_loss  Instances       Size\n",
      "      93/99      2.07G    0.03213    0.02548   0.009881         30        416: 100% 43/43 [00:06<00:00,  6.14it/s]\n",
      "                 Class     Images  Instances          P          R      mAP50   mAP50-95: 100% 7/7 [00:01<00:00,  5.39it/s]\n",
      "                   all        212        310      0.671      0.698      0.705      0.458\n",
      "\n",
      "      Epoch    GPU_mem   box_loss   obj_loss   cls_loss  Instances       Size\n",
      "      94/99      2.07G    0.03278    0.02559    0.01081         49        416: 100% 43/43 [00:06<00:00,  6.22it/s]\n",
      "                 Class     Images  Instances          P          R      mAP50   mAP50-95: 100% 7/7 [00:01<00:00,  5.35it/s]\n",
      "                   all        212        310      0.665      0.704       0.71      0.457\n",
      "\n",
      "      Epoch    GPU_mem   box_loss   obj_loss   cls_loss  Instances       Size\n",
      "      95/99      2.07G    0.03206    0.02527     0.0112         28        416: 100% 43/43 [00:06<00:00,  6.27it/s]\n",
      "                 Class     Images  Instances          P          R      mAP50   mAP50-95: 100% 7/7 [00:01<00:00,  5.39it/s]\n",
      "                   all        212        310      0.672      0.702      0.697      0.452\n",
      "\n",
      "      Epoch    GPU_mem   box_loss   obj_loss   cls_loss  Instances       Size\n",
      "      96/99      2.07G    0.03271    0.02496   0.009515         45        416: 100% 43/43 [00:06<00:00,  6.35it/s]\n",
      "                 Class     Images  Instances          P          R      mAP50   mAP50-95: 100% 7/7 [00:01<00:00,  5.18it/s]\n",
      "                   all        212        310      0.644      0.724      0.721      0.461\n",
      "\n",
      "      Epoch    GPU_mem   box_loss   obj_loss   cls_loss  Instances       Size\n",
      "      97/99      2.07G    0.03264    0.02468    0.01037         44        416: 100% 43/43 [00:06<00:00,  6.20it/s]\n",
      "                 Class     Images  Instances          P          R      mAP50   mAP50-95: 100% 7/7 [00:01<00:00,  5.45it/s]\n",
      "                   all        212        310      0.671        0.7      0.718      0.464\n",
      "\n",
      "      Epoch    GPU_mem   box_loss   obj_loss   cls_loss  Instances       Size\n",
      "      98/99      2.07G    0.03055    0.02481   0.009148         29        416: 100% 43/43 [00:06<00:00,  6.27it/s]\n",
      "                 Class     Images  Instances          P          R      mAP50   mAP50-95: 100% 7/7 [00:01<00:00,  5.42it/s]\n",
      "                   all        212        310      0.682      0.692      0.713       0.46\n",
      "\n",
      "      Epoch    GPU_mem   box_loss   obj_loss   cls_loss  Instances       Size\n",
      "      99/99      2.07G    0.03207    0.02556     0.0087         44        416: 100% 43/43 [00:06<00:00,  6.37it/s]\n",
      "                 Class     Images  Instances          P          R      mAP50   mAP50-95: 100% 7/7 [00:01<00:00,  5.37it/s]\n",
      "                   all        212        310      0.681      0.695      0.709      0.451\n",
      "\n",
      "100 epochs completed in 0.241 hours.\n",
      "Optimizer stripped from runs/train/exp/weights/last.pt, 14.4MB\n",
      "Optimizer stripped from runs/train/exp/weights/best.pt, 14.4MB\n",
      "\n",
      "Validating runs/train/exp/weights/best.pt...\n",
      "Fusing layers... \n",
      "Model summary: 157 layers, 7039792 parameters, 0 gradients, 15.8 GFLOPs\n",
      "                 Class     Images  Instances          P          R      mAP50   mAP50-95: 100% 7/7 [00:02<00:00,  2.43it/s]\n",
      "                   all        212        310      0.671        0.7      0.719      0.464\n",
      "                  Crop        212         49      0.526      0.612       0.57      0.292\n",
      "               Factory        212         43      0.577      0.476      0.543      0.239\n",
      "                Forest        212         29      0.762      0.793      0.846      0.606\n",
      "  HerbaceousVegetation        212         23      0.805      0.957      0.903      0.715\n",
      "               Highway        212         21      0.251      0.429      0.505      0.286\n",
      "                  Land        212          3      0.925      0.333      0.502       0.16\n",
      "               Pasture        212         23      0.784          1       0.99      0.756\n",
      "         PermanentCrop        212         27      0.694      0.926      0.901      0.709\n",
      "                 River        212         31      0.461      0.645      0.585       0.27\n",
      "               SeaLake        212         10      0.919          1      0.995      0.821\n",
      "              resident        212         51      0.675      0.529      0.566      0.251\n",
      "Results saved to \u001b[1mruns/train/exp\u001b[0m\n"
     ]
    }
   ],
   "source": [
    "!wandb disabled\n",
    "!python train.py --img 415 --batch 16 --epochs 100 --data /content/drive/MyDrive/satellite/YoloV5/data.yaml --weights yolov5s.pt --cache --workers 2"
   ]
  },
  {
   "cell_type": "code",
   "execution_count": 11,
   "metadata": {
    "colab": {
     "base_uri": "https://localhost:8080/"
    },
    "executionInfo": {
     "elapsed": 5922,
     "status": "ok",
     "timestamp": 1675422915943,
     "user": {
      "displayName": "tru projects",
      "userId": "10140123910494422627"
     },
     "user_tz": -330
    },
    "id": "e2BJjSnUwa3Y",
    "outputId": "7e54d317-b111-4178-be8d-dbc8de84ea11"
   },
   "outputs": [
    {
     "name": "stdout",
     "output_type": "stream",
     "text": [
      "updating: content/yolov5/ (stored 0%)\n",
      "updating: content/yolov5/models/ (stored 0%)\n",
      "updating: content/yolov5/models/yolov5m.yaml (deflated 60%)\n",
      "updating: content/yolov5/models/common.py (deflated 71%)\n",
      "updating: content/yolov5/models/yolov5l.yaml (deflated 61%)\n",
      "updating: content/yolov5/models/yolo.py (deflated 67%)\n",
      "updating: content/yolov5/models/yolov5s.yaml (deflated 60%)\n",
      "updating: content/yolov5/models/segment/ (stored 0%)\n",
      "updating: content/yolov5/models/segment/yolov5m-seg.yaml (deflated 60%)\n",
      "updating: content/yolov5/models/segment/yolov5l-seg.yaml (deflated 60%)\n",
      "updating: content/yolov5/models/segment/yolov5x-seg.yaml (deflated 60%)\n",
      "updating: content/yolov5/models/segment/yolov5s-seg.yaml (deflated 60%)\n",
      "updating: content/yolov5/models/segment/yolov5n-seg.yaml (deflated 60%)\n",
      "updating: content/yolov5/models/experimental.py (deflated 59%)\n",
      "updating: content/yolov5/models/yolov5x.yaml (deflated 60%)\n",
      "updating: content/yolov5/models/hub/ (stored 0%)\n",
      "updating: content/yolov5/models/hub/yolov5-p7.yaml (deflated 69%)\n",
      "updating: content/yolov5/models/hub/yolov5s6.yaml (deflated 65%)\n",
      "updating: content/yolov5/models/hub/yolov5s-transformer.yaml (deflated 60%)\n",
      "updating: content/yolov5/models/hub/yolov3.yaml (deflated 63%)\n",
      "updating: content/yolov5/models/hub/yolov3-tiny.yaml (deflated 60%)\n",
      "updating: content/yolov5/models/hub/anchors.yaml (deflated 72%)\n",
      "updating: content/yolov5/models/hub/yolov5s-ghost.yaml (deflated 62%)\n",
      "updating: content/yolov5/models/hub/yolov5-p2.yaml (deflated 66%)\n",
      "updating: content/yolov5/models/hub/yolov5-fpn.yaml (deflated 57%)\n",
      "updating: content/yolov5/models/hub/yolov5x6.yaml (deflated 65%)\n",
      "updating: content/yolov5/models/hub/yolov5m6.yaml (deflated 65%)\n",
      "updating: content/yolov5/models/hub/yolov5n6.yaml (deflated 65%)\n",
      "updating: content/yolov5/models/hub/yolov5-bifpn.yaml (deflated 60%)\n",
      "updating: content/yolov5/models/hub/yolov5-p6.yaml (deflated 66%)\n",
      "updating: content/yolov5/models/hub/yolov5s-LeakyReLU.yaml (deflated 59%)\n",
      "updating: content/yolov5/models/hub/yolov3-spp.yaml (deflated 63%)\n",
      "updating: content/yolov5/models/hub/yolov5-panet.yaml (deflated 60%)\n",
      "updating: content/yolov5/models/hub/yolov5-p34.yaml (deflated 62%)\n",
      "updating: content/yolov5/models/hub/yolov5l6.yaml (deflated 65%)\n",
      "updating: content/yolov5/models/__pycache__/ (stored 0%)\n",
      "updating: content/yolov5/models/tf.py (deflated 73%)\n",
      "updating: content/yolov5/models/yolov5n.yaml (deflated 60%)\n",
      "updating: content/yolov5/models/__init__.py (stored 0%)\n",
      "updating: content/yolov5/tutorial.ipynb (deflated 78%)\n",
      "updating: content/yolov5/.github/ (stored 0%)\n",
      "updating: content/yolov5/.github/ISSUE_TEMPLATE/ (stored 0%)\n",
      "updating: content/yolov5/.github/ISSUE_TEMPLATE/feature-request.yml (deflated 61%)\n",
      "updating: content/yolov5/.github/ISSUE_TEMPLATE/config.yml (deflated 36%)\n",
      "updating: content/yolov5/.github/ISSUE_TEMPLATE/question.yml (deflated 57%)\n",
      "updating: content/yolov5/.github/ISSUE_TEMPLATE/bug-report.yml (deflated 59%)\n",
      "updating: content/yolov5/.github/dependabot.yml (deflated 60%)\n",
      "updating: content/yolov5/.github/workflows/ (stored 0%)\n",
      "updating: content/yolov5/.github/workflows/stale.yml (deflated 59%)\n",
      "updating: content/yolov5/.github/workflows/greetings.yml (deflated 61%)\n",
      "updating: content/yolov5/.github/workflows/codeql-analysis.yml (deflated 52%)\n",
      "updating: content/yolov5/.github/workflows/ci-testing.yml (deflated 73%)\n",
      "updating: content/yolov5/.github/workflows/docker.yml (deflated 67%)\n",
      "updating: content/yolov5/.github/PULL_REQUEST_TEMPLATE.md (deflated 40%)\n",
      "updating: content/yolov5/detect.py (deflated 69%)\n",
      "updating: content/yolov5/benchmarks.py (deflated 68%)\n",
      "updating: content/yolov5/.git/ (stored 0%)\n",
      "updating: content/yolov5/.git/packed-refs (deflated 50%)\n",
      "updating: content/yolov5/.git/logs/ (stored 0%)\n",
      "updating: content/yolov5/.git/logs/refs/ (stored 0%)\n",
      "updating: content/yolov5/.git/logs/refs/remotes/ (stored 0%)\n",
      "updating: content/yolov5/.git/logs/refs/remotes/origin/ (stored 0%)\n",
      "updating: content/yolov5/.git/logs/refs/remotes/origin/HEAD (deflated 28%)\n",
      "updating: content/yolov5/.git/logs/refs/heads/ (stored 0%)\n",
      "updating: content/yolov5/.git/logs/refs/heads/master (deflated 28%)\n",
      "updating: content/yolov5/.git/logs/HEAD (deflated 28%)\n",
      "updating: content/yolov5/.git/info/ (stored 0%)\n",
      "updating: content/yolov5/.git/info/exclude (deflated 28%)\n",
      "updating: content/yolov5/.git/refs/ (stored 0%)\n",
      "updating: content/yolov5/.git/refs/tags/ (stored 0%)\n",
      "updating: content/yolov5/.git/refs/remotes/ (stored 0%)\n",
      "updating: content/yolov5/.git/refs/remotes/origin/ (stored 0%)\n",
      "updating: content/yolov5/.git/refs/remotes/origin/HEAD (stored 0%)\n",
      "updating: content/yolov5/.git/refs/heads/ (stored 0%)\n",
      "updating: content/yolov5/.git/refs/heads/master (stored 0%)\n",
      "updating: content/yolov5/.git/config (deflated 33%)\n",
      "updating: content/yolov5/.git/index (deflated 55%)\n",
      "updating: content/yolov5/.git/objects/ (stored 0%)\n",
      "updating: content/yolov5/.git/objects/info/ (stored 0%)\n",
      "updating: content/yolov5/.git/objects/pack/ (stored 0%)\n",
      "updating: content/yolov5/.git/FETCH_HEAD (deflated 67%)\n",
      "updating: content/yolov5/.git/branches/ (stored 0%)\n",
      "updating: content/yolov5/.git/description (deflated 14%)\n",
      "updating: content/yolov5/.git/HEAD (stored 0%)\n",
      "updating: content/yolov5/.git/hooks/ (stored 0%)\n",
      "updating: content/yolov5/.git/hooks/commit-msg.sample (deflated 44%)\n",
      "updating: content/yolov5/.git/hooks/post-update.sample (deflated 27%)\n",
      "updating: content/yolov5/.git/hooks/pre-applypatch.sample (deflated 38%)\n",
      "updating: content/yolov5/.git/hooks/applypatch-msg.sample (deflated 42%)\n",
      "updating: content/yolov5/.git/hooks/pre-receive.sample (deflated 40%)\n",
      "updating: content/yolov5/.git/hooks/pre-commit.sample (deflated 45%)\n",
      "updating: content/yolov5/.git/hooks/fsmonitor-watchman.sample (deflated 52%)\n",
      "updating: content/yolov5/.git/hooks/update.sample (deflated 68%)\n",
      "updating: content/yolov5/.git/hooks/pre-rebase.sample (deflated 59%)\n",
      "updating: content/yolov5/.git/hooks/pre-push.sample (deflated 50%)\n",
      "updating: content/yolov5/.git/hooks/prepare-commit-msg.sample (deflated 50%)\n",
      "updating: content/yolov5/LICENSE (deflated 66%)\n",
      "updating: content/yolov5/yolov5s.pt (deflated 9%)\n",
      "updating: content/yolov5/hubconf.py (deflated 73%)\n",
      "updating: content/yolov5/segment/ (stored 0%)\n",
      "updating: content/yolov5/segment/tutorial.ipynb (deflated 75%)\n",
      "updating: content/yolov5/segment/train.py (deflated 69%)\n",
      "updating: content/yolov5/segment/val.py (deflated 68%)\n",
      "updating: content/yolov5/segment/predict.py (deflated 70%)\n",
      "updating: content/yolov5/train.py (deflated 69%)\n",
      "updating: content/yolov5/val.py (deflated 67%)\n",
      "updating: content/yolov5/data/ (stored 0%)\n",
      "updating: content/yolov5/data/VOC.yaml (deflated 55%)\n",
      "updating: content/yolov5/data/Objects365.yaml (deflated 53%)\n",
      "updating: content/yolov5/data/coco.yaml (deflated 49%)\n",
      "updating: content/yolov5/data/VisDrone.yaml (deflated 59%)\n",
      "updating: content/yolov5/data/Argoverse.yaml (deflated 55%)\n",
      "updating: content/yolov5/data/images/ (stored 0%)\n",
      "updating: content/yolov5/data/images/bus.jpg (deflated 1%)\n",
      "updating: content/yolov5/data/images/zidane.jpg (deflated 0%)\n",
      "updating: content/yolov5/data/scripts/ (stored 0%)\n",
      "updating: content/yolov5/data/scripts/get_coco.sh (deflated 60%)\n",
      "updating: content/yolov5/data/scripts/get_coco128.sh (deflated 36%)\n",
      "updating: content/yolov5/data/scripts/download_weights.sh (deflated 43%)\n",
      "updating: content/yolov5/data/scripts/get_imagenet.sh (deflated 53%)\n",
      "updating: content/yolov5/data/SKU-110K.yaml (deflated 52%)\n",
      "updating: content/yolov5/data/coco128.yaml (deflated 47%)\n",
      "updating: content/yolov5/data/coco128-seg.yaml (deflated 47%)\n",
      "updating: content/yolov5/data/ImageNet.yaml (deflated 54%)\n",
      "updating: content/yolov5/data/hyps/ (stored 0%)\n",
      "updating: content/yolov5/data/hyps/hyp.scratch-low.yaml (deflated 54%)\n",
      "updating: content/yolov5/data/hyps/hyp.scratch-high.yaml (deflated 53%)\n",
      "updating: content/yolov5/data/hyps/hyp.Objects365.yaml (deflated 40%)\n",
      "updating: content/yolov5/data/hyps/hyp.scratch-med.yaml (deflated 53%)\n",
      "updating: content/yolov5/data/hyps/hyp.VOC.yaml (deflated 48%)\n",
      "updating: content/yolov5/data/GlobalWheat2020.yaml (deflated 54%)\n",
      "updating: content/yolov5/data/xView.yaml (deflated 57%)\n",
      "updating: content/yolov5/requirements.txt (deflated 56%)\n",
      "updating: content/yolov5/.dockerignore (deflated 56%)\n",
      "updating: content/yolov5/utils/ (stored 0%)\n",
      "updating: content/yolov5/utils/google_app_engine/ (stored 0%)\n",
      "updating: content/yolov5/utils/google_app_engine/app.yaml (deflated 26%)\n",
      "updating: content/yolov5/utils/google_app_engine/additional_requirements.txt (deflated 10%)\n",
      "updating: content/yolov5/utils/google_app_engine/Dockerfile (deflated 47%)\n",
      "updating: content/yolov5/utils/docker/ (stored 0%)\n",
      "updating: content/yolov5/utils/docker/Dockerfile-arm64 (deflated 52%)\n",
      "updating: content/yolov5/utils/docker/Dockerfile (deflated 56%)\n",
      "updating: content/yolov5/utils/docker/Dockerfile-cpu (deflated 52%)\n",
      "updating: content/yolov5/utils/general.py (deflated 66%)\n",
      "updating: content/yolov5/utils/dataloaders.py (deflated 71%)\n",
      "updating: content/yolov5/utils/autobatch.py (deflated 56%)\n",
      "updating: content/yolov5/utils/downloads.py (deflated 60%)\n",
      "updating: content/yolov5/utils/loss.py (deflated 69%)\n",
      "updating: content/yolov5/utils/torch_utils.py (deflated 64%)\n",
      "updating: content/yolov5/utils/triton.py (deflated 67%)\n",
      "updating: content/yolov5/utils/segment/ (stored 0%)\n",
      "updating: content/yolov5/utils/segment/general.py (deflated 71%)\n",
      "updating: content/yolov5/utils/segment/dataloaders.py (deflated 72%)\n",
      "updating: content/yolov5/utils/segment/loss.py (deflated 66%)\n",
      "updating: content/yolov5/utils/segment/metrics.py (deflated 76%)\n",
      "updating: content/yolov5/utils/segment/augmentations.py (deflated 62%)\n",
      "updating: content/yolov5/utils/segment/plots.py (deflated 64%)\n",
      "updating: content/yolov5/utils/segment/__pycache__/ (stored 0%)\n",
      "updating: content/yolov5/utils/segment/__init__.py (stored 0%)\n",
      "updating: content/yolov5/utils/metrics.py (deflated 66%)\n",
      "updating: content/yolov5/utils/autoanchor.py (deflated 60%)\n",
      "updating: content/yolov5/utils/callbacks.py (deflated 68%)\n",
      "updating: content/yolov5/utils/augmentations.py (deflated 65%)\n",
      "updating: content/yolov5/utils/aws/ (stored 0%)\n",
      "updating: content/yolov5/utils/aws/resume.py (deflated 46%)\n",
      "updating: content/yolov5/utils/aws/userdata.sh (deflated 47%)\n",
      "updating: content/yolov5/utils/aws/mime.sh (deflated 46%)\n",
      "updating: content/yolov5/utils/aws/__init__.py (stored 0%)\n",
      "updating: content/yolov5/utils/flask_rest_api/ (stored 0%)\n",
      "updating: content/yolov5/utils/flask_rest_api/example_request.py (deflated 26%)\n",
      "updating: content/yolov5/utils/flask_rest_api/restapi.py (deflated 48%)\n",
      "updating: content/yolov5/utils/flask_rest_api/README.md (deflated 52%)\n",
      "updating: content/yolov5/utils/plots.py (deflated 65%)\n",
      "updating: content/yolov5/utils/activations.py (deflated 68%)\n",
      "updating: content/yolov5/utils/__pycache__/ (stored 0%)\n",
      "updating: content/yolov5/utils/loggers/ (stored 0%)\n",
      "updating: content/yolov5/utils/loggers/clearml/ (stored 0%)\n",
      "updating: content/yolov5/utils/loggers/clearml/hpo.py (deflated 71%)\n",
      "updating: content/yolov5/utils/loggers/clearml/clearml_utils.py (deflated 64%)\n",
      "updating: content/yolov5/utils/loggers/clearml/__pycache__/ (stored 0%)\n",
      "updating: content/yolov5/utils/loggers/clearml/__init__.py (stored 0%)\n",
      "updating: content/yolov5/utils/loggers/clearml/README.md (deflated 59%)\n",
      "updating: content/yolov5/utils/loggers/wandb/ (stored 0%)\n",
      "updating: content/yolov5/utils/loggers/wandb/wandb_utils.py (deflated 75%)\n",
      "updating: content/yolov5/utils/loggers/wandb/sweep.py (deflated 53%)\n",
      "updating: content/yolov5/utils/loggers/wandb/log_dataset.py (deflated 52%)\n",
      "updating: content/yolov5/utils/loggers/wandb/sweep.yaml (deflated 73%)\n",
      "updating: content/yolov5/utils/loggers/wandb/__pycache__/ (stored 0%)\n",
      "updating: content/yolov5/utils/loggers/wandb/__init__.py (stored 0%)\n",
      "updating: content/yolov5/utils/loggers/wandb/README.md (deflated 62%)\n",
      "updating: content/yolov5/utils/loggers/__pycache__/ (stored 0%)\n",
      "updating: content/yolov5/utils/loggers/comet/ (stored 0%)\n",
      "updating: content/yolov5/utils/loggers/comet/hpo.py (deflated 68%)\n",
      "updating: content/yolov5/utils/loggers/comet/optimizer_config.json (deflated 85%)\n",
      "updating: content/yolov5/utils/loggers/comet/comet_utils.py (deflated 69%)\n",
      "updating: content/yolov5/utils/loggers/comet/__pycache__/ (stored 0%)\n",
      "updating: content/yolov5/utils/loggers/comet/__init__.py (deflated 74%)\n",
      "updating: content/yolov5/utils/loggers/comet/README.md (deflated 63%)\n",
      "updating: content/yolov5/utils/loggers/__init__.py (deflated 73%)\n",
      "updating: content/yolov5/utils/__init__.py (deflated 54%)\n",
      "updating: content/yolov5/setup.cfg (deflated 45%)\n",
      "updating: content/yolov5/CONTRIBUTING.md (deflated 56%)\n",
      "updating: content/yolov5/.gitignore (deflated 55%)\n",
      "updating: content/yolov5/.pre-commit-config.yaml (deflated 60%)\n",
      "updating: content/yolov5/__pycache__/ (stored 0%)\n",
      "updating: content/yolov5/export.py (deflated 71%)\n",
      "updating: content/yolov5/.gitattributes (deflated 4%)\n",
      "updating: content/yolov5/runs/ (stored 0%)\n",
      "updating: content/yolov5/runs/train/ (stored 0%)\n",
      "updating: content/yolov5/runs/train/exp/ (stored 0%)\n",
      "updating: content/yolov5/runs/train/exp/opt.yaml (deflated 48%)\n",
      "updating: content/yolov5/runs/train/exp/train_batch0.jpg (deflated 5%)\n",
      "updating: content/yolov5/runs/train/exp/weights/ (stored 0%)\n",
      "updating: content/yolov5/runs/train/exp/weights/best.pt (deflated 8%)\n",
      "updating: content/yolov5/runs/train/exp/weights/last.pt (deflated 8%)\n",
      "updating: content/yolov5/runs/train/exp/labels_correlogram.jpg (deflated 32%)\n",
      "updating: content/yolov5/runs/train/exp/results.csv (deflated 83%)\n",
      "updating: content/yolov5/runs/train/exp/labels.jpg (deflated 14%)\n",
      "updating: content/yolov5/runs/train/exp/hyp.yaml (deflated 45%)\n",
      "updating: content/yolov5/runs/train/exp/train_batch1.jpg (deflated 5%)\n",
      "updating: content/yolov5/runs/train/exp/train_batch2.jpg (deflated 4%)\n",
      "updating: content/yolov5/classify/ (stored 0%)\n",
      "updating: content/yolov5/classify/tutorial.ipynb (deflated 81%)\n",
      "updating: content/yolov5/classify/train.py (deflated 66%)\n",
      "updating: content/yolov5/classify/val.py (deflated 66%)\n",
      "updating: content/yolov5/classify/predict.py (deflated 69%)\n",
      "updating: content/yolov5/README.md (deflated 79%)\n",
      "  adding: content/yolov5/utils/segment/__pycache__/__init__.cpython-38.pyc (deflated 27%)\n",
      "  adding: content/yolov5/utils/segment/__pycache__/general.cpython-38.pyc (deflated 51%)\n",
      "  adding: content/yolov5/utils/loggers/comet/__pycache__/comet_utils.cpython-38.pyc (deflated 47%)\n",
      "  adding: content/yolov5/utils/loggers/comet/__pycache__/__init__.cpython-38.pyc (deflated 51%)\n",
      "  adding: content/yolov5/utils/loggers/wandb/__pycache__/wandb_utils.cpython-38.pyc (deflated 52%)\n",
      "  adding: content/yolov5/utils/loggers/wandb/__pycache__/__init__.cpython-38.pyc (deflated 24%)\n",
      "  adding: content/yolov5/utils/loggers/clearml/__pycache__/clearml_utils.cpython-38.pyc (deflated 44%)\n",
      "  adding: content/yolov5/utils/loggers/clearml/__pycache__/__init__.cpython-38.pyc (deflated 24%)\n",
      "  adding: content/yolov5/utils/loggers/__pycache__/__init__.cpython-38.pyc (deflated 51%)\n",
      "  adding: content/yolov5/utils/__pycache__/loss.cpython-38.pyc (deflated 46%)\n",
      "  adding: content/yolov5/utils/__pycache__/metrics.cpython-38.pyc (deflated 47%)\n",
      "  adding: content/yolov5/utils/__pycache__/__init__.cpython-38.pyc (deflated 41%)\n",
      "  adding: content/yolov5/utils/__pycache__/downloads.cpython-38.pyc (deflated 40%)\n",
      "  adding: content/yolov5/utils/__pycache__/callbacks.cpython-38.pyc (deflated 53%)\n",
      "  adding: content/yolov5/utils/__pycache__/augmentations.cpython-38.pyc (deflated 48%)\n",
      "  adding: content/yolov5/utils/__pycache__/autobatch.cpython-38.pyc (deflated 36%)\n",
      "  adding: content/yolov5/utils/__pycache__/general.cpython-38.pyc (deflated 50%)\n",
      "  adding: content/yolov5/utils/__pycache__/torch_utils.cpython-38.pyc (deflated 45%)\n",
      "  adding: content/yolov5/utils/__pycache__/autoanchor.cpython-38.pyc (deflated 42%)\n",
      "  adding: content/yolov5/utils/__pycache__/dataloaders.cpython-38.pyc (deflated 51%)\n",
      "  adding: content/yolov5/utils/__pycache__/plots.cpython-38.pyc (deflated 45%)\n",
      "  adding: content/yolov5/CITATION.cff (deflated 31%)\n",
      "  adding: content/yolov5/README.zh-CN.md (deflated 77%)\n",
      "  adding: content/yolov5/models/__pycache__/yolo.cpython-38.pyc (deflated 49%)\n",
      "  adding: content/yolov5/models/__pycache__/experimental.cpython-38.pyc (deflated 45%)\n",
      "  adding: content/yolov5/models/__pycache__/__init__.cpython-38.pyc (deflated 28%)\n",
      "  adding: content/yolov5/models/__pycache__/common.cpython-38.pyc (deflated 56%)\n",
      "  adding: content/yolov5/runs/train/exp/val_batch0_pred.jpg (deflated 14%)\n",
      "  adding: content/yolov5/runs/train/exp/P_curve.png (deflated 5%)\n",
      "  adding: content/yolov5/runs/train/exp/val_batch2_labels.jpg (deflated 21%)\n",
      "  adding: content/yolov5/runs/train/exp/val_batch1_labels.jpg (deflated 18%)\n",
      "  adding: content/yolov5/runs/train/exp/F1_curve.png (deflated 4%)\n",
      "  adding: content/yolov5/runs/train/exp/events.out.tfevents.1675421580.b8a750def0f1.2157.0 (deflated 22%)\n",
      "  adding: content/yolov5/runs/train/exp/results.png (deflated 8%)\n",
      "  adding: content/yolov5/runs/train/exp/PR_curve.png (deflated 6%)\n",
      "  adding: content/yolov5/runs/train/exp/val_batch2_pred.jpg (deflated 20%)\n",
      "  adding: content/yolov5/runs/train/exp/val_batch1_pred.jpg (deflated 19%)\n",
      "  adding: content/yolov5/runs/train/exp/R_curve.png (deflated 5%)\n",
      "  adding: content/yolov5/runs/train/exp/val_batch0_labels.jpg (deflated 14%)\n",
      "  adding: content/yolov5/runs/train/exp/confusion_matrix.png (deflated 16%)\n",
      "  adding: content/yolov5/.git/objects/pack/pack-eeeb7ff79073e4ed587229275cb4f08e1cb2724c.idx (deflated 2%)\n",
      "  adding: content/yolov5/.git/objects/pack/pack-eeeb7ff79073e4ed587229275cb4f08e1cb2724c.pack (deflated 2%)\n",
      "  adding: content/yolov5/.git/hooks/pre-merge-commit.sample (deflated 39%)\n",
      "  adding: content/yolov5/data/hyps/hyp.no-augmentation.yaml (deflated 54%)\n",
      "  adding: content/yolov5/__pycache__/val.cpython-38.pyc (deflated 43%)\n",
      "  adding: content/yolov5/.github/workflows/translate-readme.yml (deflated 47%)\n"
     ]
    }
   ],
   "source": [
    "!zip -r /content/drive/MyDrive/satellite/file.zip /content/yolov5"
   ]
  },
  {
   "cell_type": "markdown",
   "metadata": {
    "id": "AS5cZaG7-3y6"
   },
   "source": [
    "# **FaterRCNN**"
   ]
  },
  {
   "cell_type": "code",
   "execution_count": 12,
   "metadata": {
    "executionInfo": {
     "elapsed": 937,
     "status": "ok",
     "timestamp": 1675422916847,
     "user": {
      "displayName": "tru projects",
      "userId": "10140123910494422627"
     },
     "user_tz": -330
    },
    "id": "v79-GFmN-6LO"
   },
   "outputs": [],
   "source": [
    "import numpy as np\n",
    "import pandas as pd\n",
    "import xml.etree.ElementTree as ET\n",
    "from sklearn.model_selection import train_test_split\n",
    "import matplotlib.pyplot as plt\n",
    "from pathlib import Path\n",
    "import random\n",
    "import os\n",
    "import cv2"
   ]
  },
  {
   "cell_type": "code",
   "execution_count": 13,
   "metadata": {
    "executionInfo": {
     "elapsed": 13,
     "status": "ok",
     "timestamp": 1675422916849,
     "user": {
      "displayName": "tru projects",
      "userId": "10140123910494422627"
     },
     "user_tz": -330
    },
    "id": "vB-fjO4j_Ahr"
   },
   "outputs": [],
   "source": [
    "import torch\n",
    "from torch.utils.data import Dataset, DataLoader\n",
    "import torch.optim as optim\n",
    "import torch.nn as nn\n",
    "import torch.nn.functional as F\n",
    "from torchvision import models"
   ]
  },
  {
   "cell_type": "code",
   "execution_count": 14,
   "metadata": {
    "executionInfo": {
     "elapsed": 14,
     "status": "ok",
     "timestamp": 1675422916851,
     "user": {
      "displayName": "tru projects",
      "userId": "10140123910494422627"
     },
     "user_tz": -330
    },
    "id": "QBNv6aE2_Ece"
   },
   "outputs": [],
   "source": [
    "base_path = '/content/drive/MyDrive/satellite/archive/'\n",
    "ann_path = base_path + 'Annotations/'\n",
    "img_path = base_path + 'Images/'"
   ]
  },
  {
   "cell_type": "code",
   "execution_count": 15,
   "metadata": {
    "executionInfo": {
     "elapsed": 15,
     "status": "ok",
     "timestamp": 1675422916852,
     "user": {
      "displayName": "tru projects",
      "userId": "10140123910494422627"
     },
     "user_tz": -330
    },
    "id": "A56lbdPk_Gqi"
   },
   "outputs": [],
   "source": [
    "def get_file_list(root, file_type):\n",
    "    return [os.path.join(directory_path, f) for directory_path, directory_name, \n",
    "            files in os.walk(root) for f in files if f.endswith(file_type)]"
   ]
  },
  {
   "cell_type": "code",
   "execution_count": 16,
   "metadata": {
    "executionInfo": {
     "elapsed": 16,
     "status": "ok",
     "timestamp": 1675422917393,
     "user": {
      "displayName": "tru projects",
      "userId": "10140123910494422627"
     },
     "user_tz": -330
    },
    "id": "QlBfizKW_Ik-"
   },
   "outputs": [],
   "source": [
    "def get_train_df(ann_path, img_path):\n",
    "    ann_path_list = get_file_list(ann_path, '.xml')\n",
    "    ann_list = []\n",
    "    for a_path in ann_path_list:\n",
    "        root = ET.parse(a_path).getroot()\n",
    "        ann = {}\n",
    "        ann['filename'] = Path(str(img_path) + '/'+ root.find(\"./filename\").text)\n",
    "        ann['width'] = root.find(\"./size/width\").text\n",
    "        ann['height'] = root.find(\"./size/height\").text\n",
    "        ann['class'] = root.find(\"./object/name\").text\n",
    "        ann['xmin'] = int(root.find(\"./object/bndbox/xmin\").text)\n",
    "        ann['ymin'] = int(root.find(\"./object/bndbox/ymin\").text)\n",
    "        ann['xmax'] = int(root.find(\"./object/bndbox/ymax\").text)\n",
    "        ann_list.append(ann)\n",
    "    return pd.DataFrame(ann_list)"
   ]
  },
  {
   "cell_type": "code",
   "execution_count": 17,
   "metadata": {
    "executionInfo": {
     "elapsed": 6633,
     "status": "ok",
     "timestamp": 1675422924011,
     "user": {
      "displayName": "tru projects",
      "userId": "10140123910494422627"
     },
     "user_tz": -330
    },
    "id": "6gaeRiC3_ItD"
   },
   "outputs": [],
   "source": [
    "df_train = get_train_df(ann_path, img_path)"
   ]
  },
  {
   "cell_type": "code",
   "execution_count": 18,
   "metadata": {
    "colab": {
     "base_uri": "https://localhost:8080/"
    },
    "executionInfo": {
     "elapsed": 24,
     "status": "ok",
     "timestamp": 1675422924013,
     "user": {
      "displayName": "tru projects",
      "userId": "10140123910494422627"
     },
     "user_tz": -330
    },
    "id": "jMhaSNHL_O6r",
    "outputId": "2e936f86-c1a5-43e9-b6de-78f7ca7e8dab"
   },
   "outputs": [
    {
     "data": {
      "text/plain": [
       "piscina    109\n",
       "rotonda     94\n",
       "parking     37\n",
       "Name: class, dtype: int64"
      ]
     },
     "execution_count": 18,
     "metadata": {},
     "output_type": "execute_result"
    }
   ],
   "source": [
    "df_train['class'].value_counts()"
   ]
  },
  {
   "cell_type": "code",
   "execution_count": 19,
   "metadata": {
    "colab": {
     "base_uri": "https://localhost:8080/",
     "height": 206
    },
    "executionInfo": {
     "elapsed": 23,
     "status": "ok",
     "timestamp": 1675422924015,
     "user": {
      "displayName": "tru projects",
      "userId": "10140123910494422627"
     },
     "user_tz": -330
    },
    "id": "0GbFdyeo_Szn",
    "outputId": "54f111a7-72e7-4b85-f2c1-7d8ae68b11ce"
   },
   "outputs": [
    {
     "data": {
      "text/html": [
       "\n",
       "  <div id=\"df-81a7c5d9-97e8-491a-b05f-10f392a359ea\">\n",
       "    <div class=\"colab-df-container\">\n",
       "      <div>\n",
       "<style scoped>\n",
       "    .dataframe tbody tr th:only-of-type {\n",
       "        vertical-align: middle;\n",
       "    }\n",
       "\n",
       "    .dataframe tbody tr th {\n",
       "        vertical-align: top;\n",
       "    }\n",
       "\n",
       "    .dataframe thead th {\n",
       "        text-align: right;\n",
       "    }\n",
       "</style>\n",
       "<table border=\"1\" class=\"dataframe\">\n",
       "  <thead>\n",
       "    <tr style=\"text-align: right;\">\n",
       "      <th></th>\n",
       "      <th>filename</th>\n",
       "      <th>width</th>\n",
       "      <th>height</th>\n",
       "      <th>class</th>\n",
       "      <th>xmin</th>\n",
       "      <th>ymin</th>\n",
       "      <th>xmax</th>\n",
       "    </tr>\n",
       "  </thead>\n",
       "  <tbody>\n",
       "    <tr>\n",
       "      <th>0</th>\n",
       "      <td>/content/drive/MyDrive/satellite/archive/Image...</td>\n",
       "      <td>640</td>\n",
       "      <td>640</td>\n",
       "      <td>2</td>\n",
       "      <td>392</td>\n",
       "      <td>2</td>\n",
       "      <td>55</td>\n",
       "    </tr>\n",
       "    <tr>\n",
       "      <th>1</th>\n",
       "      <td>/content/drive/MyDrive/satellite/archive/Image...</td>\n",
       "      <td>640</td>\n",
       "      <td>640</td>\n",
       "      <td>0</td>\n",
       "      <td>607</td>\n",
       "      <td>46</td>\n",
       "      <td>90</td>\n",
       "    </tr>\n",
       "    <tr>\n",
       "      <th>2</th>\n",
       "      <td>/content/drive/MyDrive/satellite/archive/Image...</td>\n",
       "      <td>640</td>\n",
       "      <td>640</td>\n",
       "      <td>1</td>\n",
       "      <td>191</td>\n",
       "      <td>84</td>\n",
       "      <td>140</td>\n",
       "    </tr>\n",
       "    <tr>\n",
       "      <th>3</th>\n",
       "      <td>/content/drive/MyDrive/satellite/archive/Image...</td>\n",
       "      <td>640</td>\n",
       "      <td>640</td>\n",
       "      <td>2</td>\n",
       "      <td>271</td>\n",
       "      <td>190</td>\n",
       "      <td>265</td>\n",
       "    </tr>\n",
       "    <tr>\n",
       "      <th>4</th>\n",
       "      <td>/content/drive/MyDrive/satellite/archive/Image...</td>\n",
       "      <td>640</td>\n",
       "      <td>640</td>\n",
       "      <td>1</td>\n",
       "      <td>238</td>\n",
       "      <td>357</td>\n",
       "      <td>450</td>\n",
       "    </tr>\n",
       "  </tbody>\n",
       "</table>\n",
       "</div>\n",
       "      <button class=\"colab-df-convert\" onclick=\"convertToInteractive('df-81a7c5d9-97e8-491a-b05f-10f392a359ea')\"\n",
       "              title=\"Convert this dataframe to an interactive table.\"\n",
       "              style=\"display:none;\">\n",
       "        \n",
       "  <svg xmlns=\"http://www.w3.org/2000/svg\" height=\"24px\"viewBox=\"0 0 24 24\"\n",
       "       width=\"24px\">\n",
       "    <path d=\"M0 0h24v24H0V0z\" fill=\"none\"/>\n",
       "    <path d=\"M18.56 5.44l.94 2.06.94-2.06 2.06-.94-2.06-.94-.94-2.06-.94 2.06-2.06.94zm-11 1L8.5 8.5l.94-2.06 2.06-.94-2.06-.94L8.5 2.5l-.94 2.06-2.06.94zm10 10l.94 2.06.94-2.06 2.06-.94-2.06-.94-.94-2.06-.94 2.06-2.06.94z\"/><path d=\"M17.41 7.96l-1.37-1.37c-.4-.4-.92-.59-1.43-.59-.52 0-1.04.2-1.43.59L10.3 9.45l-7.72 7.72c-.78.78-.78 2.05 0 2.83L4 21.41c.39.39.9.59 1.41.59.51 0 1.02-.2 1.41-.59l7.78-7.78 2.81-2.81c.8-.78.8-2.07 0-2.86zM5.41 20L4 18.59l7.72-7.72 1.47 1.35L5.41 20z\"/>\n",
       "  </svg>\n",
       "      </button>\n",
       "      \n",
       "  <style>\n",
       "    .colab-df-container {\n",
       "      display:flex;\n",
       "      flex-wrap:wrap;\n",
       "      gap: 12px;\n",
       "    }\n",
       "\n",
       "    .colab-df-convert {\n",
       "      background-color: #E8F0FE;\n",
       "      border: none;\n",
       "      border-radius: 50%;\n",
       "      cursor: pointer;\n",
       "      display: none;\n",
       "      fill: #1967D2;\n",
       "      height: 32px;\n",
       "      padding: 0 0 0 0;\n",
       "      width: 32px;\n",
       "    }\n",
       "\n",
       "    .colab-df-convert:hover {\n",
       "      background-color: #E2EBFA;\n",
       "      box-shadow: 0px 1px 2px rgba(60, 64, 67, 0.3), 0px 1px 3px 1px rgba(60, 64, 67, 0.15);\n",
       "      fill: #174EA6;\n",
       "    }\n",
       "\n",
       "    [theme=dark] .colab-df-convert {\n",
       "      background-color: #3B4455;\n",
       "      fill: #D2E3FC;\n",
       "    }\n",
       "\n",
       "    [theme=dark] .colab-df-convert:hover {\n",
       "      background-color: #434B5C;\n",
       "      box-shadow: 0px 1px 3px 1px rgba(0, 0, 0, 0.15);\n",
       "      filter: drop-shadow(0px 1px 2px rgba(0, 0, 0, 0.3));\n",
       "      fill: #FFFFFF;\n",
       "    }\n",
       "  </style>\n",
       "\n",
       "      <script>\n",
       "        const buttonEl =\n",
       "          document.querySelector('#df-81a7c5d9-97e8-491a-b05f-10f392a359ea button.colab-df-convert');\n",
       "        buttonEl.style.display =\n",
       "          google.colab.kernel.accessAllowed ? 'block' : 'none';\n",
       "\n",
       "        async function convertToInteractive(key) {\n",
       "          const element = document.querySelector('#df-81a7c5d9-97e8-491a-b05f-10f392a359ea');\n",
       "          const dataTable =\n",
       "            await google.colab.kernel.invokeFunction('convertToInteractive',\n",
       "                                                     [key], {});\n",
       "          if (!dataTable) return;\n",
       "\n",
       "          const docLinkHtml = 'Like what you see? Visit the ' +\n",
       "            '<a target=\"_blank\" href=https://colab.research.google.com/notebooks/data_table.ipynb>data table notebook</a>'\n",
       "            + ' to learn more about interactive tables.';\n",
       "          element.innerHTML = '';\n",
       "          dataTable['output_type'] = 'display_data';\n",
       "          await google.colab.output.renderOutput(dataTable, element);\n",
       "          const docLink = document.createElement('div');\n",
       "          docLink.innerHTML = docLinkHtml;\n",
       "          element.appendChild(docLink);\n",
       "        }\n",
       "      </script>\n",
       "    </div>\n",
       "  </div>\n",
       "  "
      ],
      "text/plain": [
       "                                            filename width height  class  \\\n",
       "0  /content/drive/MyDrive/satellite/archive/Image...   640    640      2   \n",
       "1  /content/drive/MyDrive/satellite/archive/Image...   640    640      0   \n",
       "2  /content/drive/MyDrive/satellite/archive/Image...   640    640      1   \n",
       "3  /content/drive/MyDrive/satellite/archive/Image...   640    640      2   \n",
       "4  /content/drive/MyDrive/satellite/archive/Image...   640    640      1   \n",
       "\n",
       "   xmin  ymin  xmax  \n",
       "0   392     2    55  \n",
       "1   607    46    90  \n",
       "2   191    84   140  \n",
       "3   271   190   265  \n",
       "4   238   357   450  "
      ]
     },
     "execution_count": 19,
     "metadata": {},
     "output_type": "execute_result"
    }
   ],
   "source": [
    "class_dict = {'piscina': 0, 'rotonda': 1, 'parking': 2}\n",
    "idx_to_class = {k:v for k,v in enumerate(list(class_dict.keys()))}\n",
    "df_train['class'] = df_train['class'].apply(lambda x:  class_dict[x])\n",
    "df_train.head()"
   ]
  },
  {
   "cell_type": "code",
   "execution_count": 20,
   "metadata": {
    "executionInfo": {
     "elapsed": 19,
     "status": "ok",
     "timestamp": 1675422924016,
     "user": {
      "displayName": "tru projects",
      "userId": "10140123910494422627"
     },
     "user_tz": -330
    },
    "id": "MJ0tSatM_Wnp"
   },
   "outputs": [],
   "source": [
    "# additional functions\n",
    "\n",
    "def read_image(path):\n",
    "    return cv2.cvtColor(cv2.imread(str(path)), cv2.COLOR_BGR2RGB)\n",
    "\n",
    "def create_bb_array(x):\n",
    "    return np.array([x[5],x[4],x[1],x[2]])"
   ]
  },
  {
   "cell_type": "code",
   "execution_count": 21,
   "metadata": {
    "executionInfo": {
     "elapsed": 22,
     "status": "ok",
     "timestamp": 1675422924020,
     "user": {
      "displayName": "tru projects",
      "userId": "10140123910494422627"
     },
     "user_tz": -330
    },
    "id": "nEg39v-t_XKI"
   },
   "outputs": [],
   "source": [
    "# masks functions\n",
    "\n",
    "def create_mask(bb, x):\n",
    "    rows,cols,*_ = x.shape\n",
    "    Y = np.zeros((rows, cols))\n",
    "    bb = bb.astype(np.int)\n",
    "    Y[bb[0]:bb[2], bb[1]:bb[3]] = 1.\n",
    "    return Y\n",
    "\n",
    "def mask_to_bb(Y):\n",
    "    cols, rows = np.nonzero(Y)\n",
    "    if len(cols)==0: \n",
    "        return np.zeros(4, dtype=np.float32)\n",
    "    top_row = np.min(rows)\n",
    "    left_col = np.min(cols)\n",
    "    bottom_row = np.max(rows)\n",
    "    right_col = np.max(cols)\n",
    "    return np.array([left_col, top_row, right_col, bottom_row], dtype=np.float32)"
   ]
  },
  {
   "cell_type": "code",
   "execution_count": 22,
   "metadata": {
    "executionInfo": {
     "elapsed": 26,
     "status": "ok",
     "timestamp": 1675422924025,
     "user": {
      "displayName": "tru projects",
      "userId": "10140123910494422627"
     },
     "user_tz": -330
    },
    "id": "mB8bDEFV_boE"
   },
   "outputs": [],
   "source": [
    "def resize_image_bb(read_path, write_path, bb, sz):\n",
    "    im = read_image(read_path)\n",
    "    im_resized = cv2.resize(im, (int(1.49*sz), sz))\n",
    "    Y_resized = cv2.resize(create_mask(bb, im), (int(1.49*sz), sz))\n",
    "    new_path = str(write_path/read_path.parts[-1])\n",
    "    cv2.imwrite(new_path, cv2.cvtColor(im_resized, cv2.COLOR_RGB2BGR))\n",
    "    return new_path, mask_to_bb(Y_resized)"
   ]
  },
  {
   "cell_type": "code",
   "execution_count": 23,
   "metadata": {
    "executionInfo": {
     "elapsed": 26,
     "status": "ok",
     "timestamp": 1675422924026,
     "user": {
      "displayName": "tru projects",
      "userId": "10140123910494422627"
     },
     "user_tz": -330
    },
    "id": "VxeKasRQ_cK4"
   },
   "outputs": [],
   "source": [
    "!rm -rf images_resized\n",
    "!mkdir images_resized"
   ]
  },
  {
   "cell_type": "code",
   "execution_count": 24,
   "metadata": {
    "colab": {
     "base_uri": "https://localhost:8080/"
    },
    "executionInfo": {
     "elapsed": 139392,
     "status": "ok",
     "timestamp": 1675423063394,
     "user": {
      "displayName": "tru projects",
      "userId": "10140123910494422627"
     },
     "user_tz": -330
    },
    "id": "bRX8A4hE_dxo",
    "outputId": "5063b30c-ff34-4125-e175-8d452f184144"
   },
   "outputs": [
    {
     "name": "stderr",
     "output_type": "stream",
     "text": [
      "<ipython-input-21-9a8ee5f7d9e1>:6: DeprecationWarning: `np.int` is a deprecated alias for the builtin `int`. To silence this warning, use `int` by itself. Doing this will not modify any behavior and is safe. When replacing `np.int`, you may wish to use e.g. `np.int64` or `np.int32` to specify the precision. If you wish to review your current use, check the release note link for additional information.\n",
      "Deprecated in NumPy 1.20; for more details and guidance: https://numpy.org/devdocs/release/1.20.0-notes.html#deprecations\n",
      "  bb = bb.astype(np.int)\n"
     ]
    }
   ],
   "source": [
    "new_paths = []\n",
    "new_bbs = []\n",
    "train_path_resized = Path('images_resized')\n",
    "\n",
    "for index, row in df_train.iterrows():\n",
    "    new_path,new_bb = resize_image_bb(row['filename'], train_path_resized, create_bb_array(row.values),300)\n",
    "    new_paths.append(new_path)\n",
    "    new_bbs.append(new_bb)\n",
    "    \n",
    "df_train['new_path'] = new_paths\n",
    "df_train['new_bb'] = new_bbs"
   ]
  },
  {
   "cell_type": "markdown",
   "metadata": {
    "id": "uh6OdajP_kZ6"
   },
   "source": [
    "# Data Augmentation"
   ]
  },
  {
   "cell_type": "code",
   "execution_count": 25,
   "metadata": {
    "executionInfo": {
     "elapsed": 46,
     "status": "ok",
     "timestamp": 1675423063395,
     "user": {
      "displayName": "tru projects",
      "userId": "10140123910494422627"
     },
     "user_tz": -330
    },
    "id": "RQViNeKu_fjD"
   },
   "outputs": [],
   "source": [
    "# crop functions\n",
    "\n",
    "def crop(im, r, c, target_r, target_c): \n",
    "    return im[r:r+target_r, c:c+target_c]\n",
    "\n",
    "def random_crop(x, r_pix=8):\n",
    "    r, c,*_ = x.shape\n",
    "    c_pix = round(r_pix*c/r)\n",
    "    rand_r = random.uniform(0, 1)\n",
    "    rand_c = random.uniform(0, 1)\n",
    "    start_r = np.floor(2*rand_r*r_pix).astype(int)\n",
    "    start_c = np.floor(2*rand_c*c_pix).astype(int)\n",
    "    return crop(x, start_r, start_c, r-2*r_pix, c-2*c_pix)\n",
    "\n",
    "def center_crop(x, r_pix=8):\n",
    "    r, c,*_ = x.shape\n",
    "    c_pix = round(r_pix*c/r)\n",
    "    return crop(x, r_pix, c_pix, r-2*r_pix, c-2*c_pix)\n",
    "\n",
    "def random_cropXY(x, Y, r_pix=8):\n",
    "    r, c,*_ = x.shape\n",
    "    c_pix = round(r_pix*c/r)\n",
    "    rand_r = random.uniform(0, 1)\n",
    "    rand_c = random.uniform(0, 1)\n",
    "    start_r = np.floor(2*rand_r*r_pix).astype(int)\n",
    "    start_c = np.floor(2*rand_c*c_pix).astype(int)\n",
    "    xx = crop(x, start_r, start_c, r-2*r_pix, c-2*c_pix)\n",
    "    YY = crop(Y, start_r, start_c, r-2*r_pix, c-2*c_pix)\n",
    "    return xx, YY"
   ]
  },
  {
   "cell_type": "code",
   "execution_count": 26,
   "metadata": {
    "executionInfo": {
     "elapsed": 44,
     "status": "ok",
     "timestamp": 1675423063397,
     "user": {
      "displayName": "tru projects",
      "userId": "10140123910494422627"
     },
     "user_tz": -330
    },
    "id": "orf7lPJF_nD4"
   },
   "outputs": [],
   "source": [
    "def rotate_cv(im, deg, y=False, mode=cv2.BORDER_REFLECT, interpolation=cv2.INTER_AREA):\n",
    "    \"\"\" Rotates an image by deg degrees\"\"\"\n",
    "    r,c,*_ = im.shape\n",
    "    M = cv2.getRotationMatrix2D((c/2,r/2),deg,1)\n",
    "    if y:\n",
    "        return cv2.warpAffine(im, M,(c,r), borderMode=cv2.BORDER_CONSTANT)\n",
    "    return cv2.warpAffine(im,M,(c,r), borderMode=mode, flags=cv2.WARP_FILL_OUTLIERS+interpolation)"
   ]
  },
  {
   "cell_type": "code",
   "execution_count": 27,
   "metadata": {
    "executionInfo": {
     "elapsed": 43,
     "status": "ok",
     "timestamp": 1675423063398,
     "user": {
      "displayName": "tru projects",
      "userId": "10140123910494422627"
     },
     "user_tz": -330
    },
    "id": "CJ_B9dMF_tKL"
   },
   "outputs": [],
   "source": [
    "# main function for augmentation\n",
    "\n",
    "def transformsXY(path, bb, transforms):\n",
    "    x = cv2.imread(str(path)).astype(np.float32)\n",
    "    x = cv2.cvtColor(x, cv2.COLOR_BGR2RGB)/255\n",
    "    Y = create_mask(bb, x)\n",
    "    if transforms:\n",
    "        rdeg = (np.random.random()-.50)*20\n",
    "        x = rotate_cv(x, rdeg)\n",
    "        Y = rotate_cv(Y, rdeg, y=True)\n",
    "        if np.random.random() > 0.5: \n",
    "            x = np.fliplr(x).copy()\n",
    "            Y = np.fliplr(Y).copy()\n",
    "        x, Y = random_cropXY(x, Y)\n",
    "    else:\n",
    "        x, Y = center_crop(x), center_crop(Y)\n",
    "    return x, mask_to_bb(Y)"
   ]
  },
  {
   "cell_type": "code",
   "execution_count": 28,
   "metadata": {
    "executionInfo": {
     "elapsed": 42,
     "status": "ok",
     "timestamp": 1675423063399,
     "user": {
      "displayName": "tru projects",
      "userId": "10140123910494422627"
     },
     "user_tz": -330
    },
    "id": "XK9EYljl_v3e"
   },
   "outputs": [],
   "source": [
    "# functions to create and show the boxes\n",
    "\n",
    "def create_corner_rect(bb, color='red'):\n",
    "    bb = np.array(bb, dtype=np.float32)\n",
    "    return plt.Rectangle((bb[1], bb[0]), bb[3]-bb[1], bb[2]-bb[0], color=color,\n",
    "                         fill=False, lw=3)\n",
    "\n",
    "def show_corner_bb(im, bb):\n",
    "    plt.imshow(im)\n",
    "    plt.gca().add_patch(create_corner_rect(bb))"
   ]
  },
  {
   "cell_type": "code",
   "execution_count": 29,
   "metadata": {
    "colab": {
     "base_uri": "https://localhost:8080/"
    },
    "executionInfo": {
     "elapsed": 43,
     "status": "ok",
     "timestamp": 1675423063401,
     "user": {
      "displayName": "tru projects",
      "userId": "10140123910494422627"
     },
     "user_tz": -330
    },
    "id": "ISzEv1tMS0Vk",
    "outputId": "4d4192b8-e481-4e14-b0b4-f73a96631bcc"
   },
   "outputs": [
    {
     "data": {
      "text/plain": [
       "array([ 84., 141., 299., 446.], dtype=float32)"
      ]
     },
     "execution_count": 29,
     "metadata": {},
     "output_type": "execute_result"
    }
   ],
   "source": [
    "df_train.values[10][8]"
   ]
  },
  {
   "cell_type": "code",
   "execution_count": 30,
   "metadata": {
    "executionInfo": {
     "elapsed": 40,
     "status": "ok",
     "timestamp": 1675423063402,
     "user": {
      "displayName": "tru projects",
      "userId": "10140123910494422627"
     },
     "user_tz": -330
    },
    "id": "YD8Ak0lc_zPO"
   },
   "outputs": [],
   "source": [
    "# before transformation\n",
    "\n",
    "im = cv2.imread(str(df_train.values[10][8]))\n",
    "#im = cv2.cvtColor(im, cv2.COLOR_BGR2RGB)\n",
    "#show_corner_bb(im, df_train.values[10][8])"
   ]
  },
  {
   "cell_type": "code",
   "execution_count": 31,
   "metadata": {
    "executionInfo": {
     "elapsed": 40,
     "status": "ok",
     "timestamp": 1675423063403,
     "user": {
      "displayName": "tru projects",
      "userId": "10140123910494422627"
     },
     "user_tz": -330
    },
    "id": "ta81sVEl_6Sc"
   },
   "outputs": [],
   "source": [
    "# after transformation\n",
    "\n",
    "#im, bb = transformsXY(str(df_train.values[10][8]),df_train.values[100][8],True )\n",
    "#show_corner_bb(im, bb)"
   ]
  },
  {
   "cell_type": "code",
   "execution_count": 32,
   "metadata": {
    "executionInfo": {
     "elapsed": 40,
     "status": "ok",
     "timestamp": 1675423063404,
     "user": {
      "displayName": "tru projects",
      "userId": "10140123910494422627"
     },
     "user_tz": -330
    },
    "id": "RAds6Tks_8Nb"
   },
   "outputs": [],
   "source": [
    "df_train = df_train.reset_index()\n",
    "\n",
    "X = df_train[['new_path', 'new_bb']]\n",
    "y = df_train['class']"
   ]
  },
  {
   "cell_type": "code",
   "execution_count": 33,
   "metadata": {
    "executionInfo": {
     "elapsed": 40,
     "status": "ok",
     "timestamp": 1675423063405,
     "user": {
      "displayName": "tru projects",
      "userId": "10140123910494422627"
     },
     "user_tz": -330
    },
    "id": "5oEPgAfQ_-Qm"
   },
   "outputs": [],
   "source": [
    "X_train, X_test, y_train, y_test = train_test_split(X, y, test_size=0.3, random_state=34)"
   ]
  },
  {
   "cell_type": "code",
   "execution_count": 34,
   "metadata": {
    "executionInfo": {
     "elapsed": 40,
     "status": "ok",
     "timestamp": 1675423063406,
     "user": {
      "displayName": "tru projects",
      "userId": "10140123910494422627"
     },
     "user_tz": -330
    },
    "id": "FAElx-Wl__6d"
   },
   "outputs": [],
   "source": [
    "class RoadDataset(Dataset):\n",
    "    def __init__(self, paths, bb, y, transforms=False):\n",
    "        self.transforms = transforms\n",
    "        self.paths = paths.values\n",
    "        self.bb = bb.values\n",
    "        self.y = y.values\n",
    "        \n",
    "    def normalize(self, im):\n",
    "        imagenet_stats = np.array([[0.485, 0.456, 0.406], [0.229, 0.224, 0.225]])\n",
    "        return (im - imagenet_stats[0])/imagenet_stats[1]\n",
    "    \n",
    "    def __len__(self):\n",
    "        return len(self.paths)\n",
    "    \n",
    "    def __getitem__(self, idx):\n",
    "        path = self.paths[idx]\n",
    "        y_class = self.y[idx]\n",
    "        x, y_bb = transformsXY(path, self.bb[idx], self.transforms)\n",
    "        x = self.normalize(x)\n",
    "        x = np.rollaxis(x, 2)\n",
    "        return x, y_class, y_bb"
   ]
  },
  {
   "cell_type": "code",
   "execution_count": 35,
   "metadata": {
    "executionInfo": {
     "elapsed": 40,
     "status": "ok",
     "timestamp": 1675423063407,
     "user": {
      "displayName": "tru projects",
      "userId": "10140123910494422627"
     },
     "user_tz": -330
    },
    "id": "fFCZPzl_ADl2"
   },
   "outputs": [],
   "source": [
    "batch_size = 64\n",
    "\n",
    "train_ds = RoadDataset(X_train['new_path'],X_train['new_bb'] ,y_train, transforms=True)\n",
    "valid_ds = RoadDataset(X_test['new_path'],X_test['new_bb'],y_test)\n",
    "\n",
    "train_dl = DataLoader(train_ds, batch_size=batch_size, shuffle=True)\n",
    "valid_dl = DataLoader(valid_ds, batch_size=batch_size)"
   ]
  },
  {
   "cell_type": "code",
   "execution_count": 36,
   "metadata": {
    "executionInfo": {
     "elapsed": 41,
     "status": "ok",
     "timestamp": 1675423063409,
     "user": {
      "displayName": "tru projects",
      "userId": "10140123910494422627"
     },
     "user_tz": -330
    },
    "id": "YzW9kaenAFt6"
   },
   "outputs": [],
   "source": [
    "class RCNN(nn.Module):\n",
    "    def __init__(self):\n",
    "        super(RCNN, self).__init__()\n",
    "        resnet = models.resnet34(pretrained=True)\n",
    "        layers = list(resnet.children())[:8]\n",
    "        self.features1 = nn.Sequential(*layers[:6])\n",
    "        self.features2 = nn.Sequential(*layers[6:])\n",
    "        self.classifier = nn.Sequential(nn.BatchNorm1d(512), nn.Linear(512, 4))\n",
    "        self.bb = nn.Sequential(nn.BatchNorm1d(512), nn.Linear(512, 4))\n",
    "        \n",
    "    def forward(self, x):\n",
    "        x = self.features1(x)\n",
    "        x = self.features2(x)\n",
    "        x = F.relu(x)\n",
    "        x = nn.AdaptiveAvgPool2d((1,1))(x)\n",
    "        x = x.view(x.shape[0], -1)\n",
    "        return self.classifier(x), self.bb(x)"
   ]
  },
  {
   "cell_type": "markdown",
   "metadata": {
    "id": "r71oYcZmAL8h"
   },
   "source": [
    "Training"
   ]
  },
  {
   "cell_type": "code",
   "execution_count": 37,
   "metadata": {
    "executionInfo": {
     "elapsed": 42,
     "status": "ok",
     "timestamp": 1675423063410,
     "user": {
      "displayName": "tru projects",
      "userId": "10140123910494422627"
     },
     "user_tz": -330
    },
    "id": "qr0YEgxPAH7c"
   },
   "outputs": [],
   "source": [
    "def update_optimizer(optimizer, lr):\n",
    "    for i, param_group in enumerate(optimizer.param_groups):\n",
    "        param_group[\"lr\"] = lr"
   ]
  },
  {
   "cell_type": "code",
   "execution_count": 38,
   "metadata": {
    "executionInfo": {
     "elapsed": 42,
     "status": "ok",
     "timestamp": 1675423063411,
     "user": {
      "displayName": "tru projects",
      "userId": "10140123910494422627"
     },
     "user_tz": -330
    },
    "id": "M5u7gLBaAOdH"
   },
   "outputs": [],
   "source": [
    "def train_epocs(model, optimizer, train_dl, val_dl, epochs=10,C=1000):\n",
    "    idx = 0\n",
    "    for i in range(epochs):\n",
    "        model.train()\n",
    "        total = 0\n",
    "        sum_loss = 0\n",
    "        for x, y_class, y_bb in train_dl:\n",
    "            batch = y_class.shape[0]\n",
    "            x = x.cuda().float()\n",
    "            y_class = y_class.cuda()\n",
    "            y_bb = y_bb.cuda().float()\n",
    "            out_class, out_bb = model(x)\n",
    "            loss_class = F.cross_entropy(out_class, y_class, reduction=\"sum\")\n",
    "            loss_bb = F.l1_loss(out_bb, y_bb, reduction=\"none\").sum(1)\n",
    "            loss_bb = loss_bb.sum()\n",
    "            loss = loss_class + loss_bb/C\n",
    "            optimizer.zero_grad()\n",
    "            loss.backward()\n",
    "            optimizer.step()\n",
    "            idx += 1\n",
    "            total += batch\n",
    "            sum_loss += loss.item()\n",
    "        train_loss = sum_loss/total\n",
    "        val_loss, val_acc = val_metrics(model, valid_dl, C)\n",
    "        if (i+1) % 10 == 0:\n",
    "            print(\"i:%4d train_loss:%5.3f val_loss:%5.3f val_acc:%5.3f\" % ((i+1), train_loss, val_loss, val_acc))\n",
    "    return sum_loss/total"
   ]
  },
  {
   "cell_type": "code",
   "execution_count": 39,
   "metadata": {
    "executionInfo": {
     "elapsed": 43,
     "status": "ok",
     "timestamp": 1675423063412,
     "user": {
      "displayName": "tru projects",
      "userId": "10140123910494422627"
     },
     "user_tz": -330
    },
    "id": "267z5qG9ASaC"
   },
   "outputs": [],
   "source": [
    "def val_metrics(model, valid_dl, C=1000):\n",
    "    model.eval()\n",
    "    total = 0\n",
    "    sum_loss = 0\n",
    "    correct = 0 \n",
    "    for x, y_class, y_bb in valid_dl:\n",
    "        batch = y_class.shape[0]\n",
    "        x = x.cuda().float()\n",
    "        y_class = y_class.cuda()\n",
    "        y_bb = y_bb.cuda().float()\n",
    "        out_class, out_bb = model(x)\n",
    "        loss_class = F.cross_entropy(out_class, y_class, reduction=\"sum\")\n",
    "        loss_bb = F.l1_loss(out_bb, y_bb, reduction=\"none\").sum(1)\n",
    "        loss_bb = loss_bb.sum()\n",
    "        loss = loss_class + loss_bb/C\n",
    "        _, pred = torch.max(out_class, 1)\n",
    "        correct += pred.eq(y_class).sum().item()\n",
    "        sum_loss += loss.item()\n",
    "        total += batch\n",
    "    return sum_loss/total, correct/total"
   ]
  },
  {
   "cell_type": "code",
   "execution_count": 40,
   "metadata": {
    "colab": {
     "base_uri": "https://localhost:8080/",
     "height": 156,
     "referenced_widgets": [
      "afe346b214fc4b8d92f1db34132fae13",
      "5c30c8dbe9ae4eb1aa61a1903d752979",
      "ff6c82b7a3724ac4b3d90352be091148",
      "e490a22a99ac4a15acaa493d01b3463c",
      "1b14e3fc93894c72b354cfa1c828db6b",
      "5db3e31a1326436381b57626a24e35f8",
      "aa4bade3cd5b4f85b7657232ae42d730",
      "97b3136e270b4cc2bd75553932e931df",
      "c9eac980199e417ba16eca02aa5a99a9",
      "eb9814ff215c4ca5a33abaf9036ba681",
      "48a4dbf7faff4292ba21914ee157ac35"
     ]
    },
    "executionInfo": {
     "elapsed": 3480,
     "status": "ok",
     "timestamp": 1675423066850,
     "user": {
      "displayName": "tru projects",
      "userId": "10140123910494422627"
     },
     "user_tz": -330
    },
    "id": "m1N7Fm1AAUtz",
    "outputId": "41b5d3b8-6a73-4e45-b184-ac4ed98e0f6f"
   },
   "outputs": [
    {
     "name": "stderr",
     "output_type": "stream",
     "text": [
      "/usr/local/lib/python3.8/dist-packages/torchvision/models/_utils.py:208: UserWarning: The parameter 'pretrained' is deprecated since 0.13 and may be removed in the future, please use 'weights' instead.\n",
      "  warnings.warn(\n",
      "/usr/local/lib/python3.8/dist-packages/torchvision/models/_utils.py:223: UserWarning: Arguments other than a weight enum or `None` for 'weights' are deprecated since 0.13 and may be removed in the future. The current behavior is equivalent to passing `weights=ResNet34_Weights.IMAGENET1K_V1`. You can also use `weights=ResNet34_Weights.DEFAULT` to get the most up-to-date weights.\n",
      "  warnings.warn(msg)\n",
      "Downloading: \"https://download.pytorch.org/models/resnet34-b627a593.pth\" to /root/.cache/torch/hub/checkpoints/resnet34-b627a593.pth\n"
     ]
    },
    {
     "data": {
      "application/vnd.jupyter.widget-view+json": {
       "model_id": "afe346b214fc4b8d92f1db34132fae13",
       "version_major": 2,
       "version_minor": 0
      },
      "text/plain": [
       "  0%|          | 0.00/83.3M [00:00<?, ?B/s]"
      ]
     },
     "metadata": {},
     "output_type": "display_data"
    }
   ],
   "source": [
    "model = RCNN().cuda()\n",
    "parameters = filter(lambda p: p.requires_grad, model.parameters())\n",
    "optimizer = torch.optim.Adam(parameters, lr=0.002)"
   ]
  },
  {
   "cell_type": "code",
   "execution_count": 41,
   "metadata": {
    "colab": {
     "base_uri": "https://localhost:8080/"
    },
    "executionInfo": {
     "elapsed": 484529,
     "status": "ok",
     "timestamp": 1675423551374,
     "user": {
      "displayName": "tru projects",
      "userId": "10140123910494422627"
     },
     "user_tz": -330
    },
    "id": "EnTPSaU1AXim",
    "outputId": "291f0ed3-fa08-420b-b628-a040a0e733d3"
   },
   "outputs": [
    {
     "name": "stderr",
     "output_type": "stream",
     "text": [
      "<ipython-input-21-9a8ee5f7d9e1>:6: DeprecationWarning: `np.int` is a deprecated alias for the builtin `int`. To silence this warning, use `int` by itself. Doing this will not modify any behavior and is safe. When replacing `np.int`, you may wish to use e.g. `np.int64` or `np.int32` to specify the precision. If you wish to review your current use, check the release note link for additional information.\n",
      "Deprecated in NumPy 1.20; for more details and guidance: https://numpy.org/devdocs/release/1.20.0-notes.html#deprecations\n",
      "  bb = bb.astype(np.int)\n"
     ]
    },
    {
     "name": "stdout",
     "output_type": "stream",
     "text": [
      "i:  10 train_loss:1.272 val_loss:19.336 val_acc:0.486\n",
      "i:  20 train_loss:1.039 val_loss:7.860 val_acc:0.625\n",
      "i:  30 train_loss:0.794 val_loss:2.866 val_acc:0.708\n",
      "i:  40 train_loss:0.773 val_loss:6.970 val_acc:0.458\n",
      "i:  50 train_loss:0.659 val_loss:3.319 val_acc:0.722\n",
      "i:  60 train_loss:0.616 val_loss:3.994 val_acc:0.583\n",
      "i:  70 train_loss:0.422 val_loss:1.965 val_acc:0.722\n",
      "i:  80 train_loss:0.353 val_loss:3.887 val_acc:0.681\n",
      "i:  90 train_loss:0.258 val_loss:6.555 val_acc:0.653\n",
      "i: 100 train_loss:0.275 val_loss:2.132 val_acc:0.750\n"
     ]
    },
    {
     "data": {
      "text/plain": [
       "0.2770400444666545"
      ]
     },
     "execution_count": 41,
     "metadata": {},
     "output_type": "execute_result"
    }
   ],
   "source": [
    "train_epocs(model, optimizer, train_dl, valid_dl, epochs=101)"
   ]
  },
  {
   "cell_type": "code",
   "execution_count": 42,
   "metadata": {
    "colab": {
     "base_uri": "https://localhost:8080/"
    },
    "executionInfo": {
     "elapsed": 1108,
     "status": "ok",
     "timestamp": 1675423552459,
     "user": {
      "displayName": "tru projects",
      "userId": "10140123910494422627"
     },
     "user_tz": -330
    },
    "id": "07wGYhLFAddq",
    "outputId": "5145340c-0c8e-4b70-99bf-081c4b98303b"
   },
   "outputs": [
    {
     "name": "stderr",
     "output_type": "stream",
     "text": [
      "<ipython-input-21-9a8ee5f7d9e1>:6: DeprecationWarning: `np.int` is a deprecated alias for the builtin `int`. To silence this warning, use `int` by itself. Doing this will not modify any behavior and is safe. When replacing `np.int`, you may wish to use e.g. `np.int64` or `np.int32` to specify the precision. If you wish to review your current use, check the release note link for additional information.\n",
      "Deprecated in NumPy 1.20; for more details and guidance: https://numpy.org/devdocs/release/1.20.0-notes.html#deprecations\n",
      "  bb = bb.astype(np.int)\n"
     ]
    }
   ],
   "source": [
    "# Predict the first image of the validation set\n",
    "test_batch = next(iter(valid_dl))\n",
    "test_batch[0] = test_batch[0].type(torch.cuda.FloatTensor).cuda()"
   ]
  },
  {
   "cell_type": "code",
   "execution_count": 43,
   "metadata": {
    "executionInfo": {
     "elapsed": 40,
     "status": "ok",
     "timestamp": 1675423552460,
     "user": {
      "displayName": "tru projects",
      "userId": "10140123910494422627"
     },
     "user_tz": -330
    },
    "id": "4H86z219Afir"
   },
   "outputs": [],
   "source": [
    "out, bb = model(test_batch[0])"
   ]
  },
  {
   "cell_type": "code",
   "execution_count": 44,
   "metadata": {
    "colab": {
     "base_uri": "https://localhost:8080/",
     "height": 306
    },
    "executionInfo": {
     "elapsed": 39,
     "status": "ok",
     "timestamp": 1675423552461,
     "user": {
      "displayName": "tru projects",
      "userId": "10140123910494422627"
     },
     "user_tz": -330
    },
    "id": "BrhVXz4yAi2G",
    "outputId": "93078465-3c53-4eaf-e30a-c2e8d9a14302"
   },
   "outputs": [
    {
     "name": "stderr",
     "output_type": "stream",
     "text": [
      "WARNING:matplotlib.image:Clipping input data to the valid range for imshow with RGB data ([0..1] for floats or [0..255] for integers).\n"
     ]
    },
    {
     "data": {
      "image/png": "[encoded data removed]",
      "text/plain": [
       "<Figure size 432x288 with 1 Axes>"
      ]
     },
     "metadata": {
      "needs_background": "light"
     },
     "output_type": "display_data"
    }
   ],
   "source": [
    "show_corner_bb(np.moveaxis(test_batch[0][0].cpu().numpy(), 0, 2), bb.detach().cpu().numpy().astype(int)[0])"
   ]
  }
 ],
 "metadata": {
  "accelerator": "GPU",
  "colab": {
   "provenance": []
  },
  "gpuClass": "standard",
  "kernelspec": {
   "display_name": "Python 3",
   "language": "python",
   "name": "python3"
  },
  "language_info": {
   "codemirror_mode": {
    "name": "ipython",
    "version": 3
   },
   "file_extension": ".py",
   "mimetype": "text/x-python",
   "name": "python",
   "nbconvert_exporter": "python",
   "pygments_lexer": "ipython3",
   "version": "3.7.4"
  },
  "papermill": {
   "duration": 1956.501745,
   "end_time": "2020-11-25T07:34:03.687920",
   "environment_variables": {},
   "exception": null,
   "input_path": "__notebook__.ipynb",
   "output_path": "__notebook__.ipynb",
   "parameters": {},
   "start_time": "2020-11-25T07:01:27.186175",
   "version": "2.1.0"
  },
  "widgets": {
   "application/vnd.jupyter.widget-state+json": {
    "1b14e3fc93894c72b354cfa1c828db6b": {
     "model_module": "@jupyter-widgets/base",
     "model_module_version": "1.2.0",
     "model_name": "LayoutModel",
     "state": {
      "_model_module": "@jupyter-widgets/base",
      "_model_module_version": "1.2.0",
      "_model_name": "LayoutModel",
      "_view_count": null,
      "_view_module": "@jupyter-widgets/base",
      "_view_module_version": "1.2.0",
      "_view_name": "LayoutView",
      "align_content": null,
      "align_items": null,
      "align_self": null,
      "border": null,
      "bottom": null,
      "display": null,
      "flex": null,
      "flex_flow": null,
      "grid_area": null,
      "grid_auto_columns": null,
      "grid_auto_flow": null,
      "grid_auto_rows": null,
      "grid_column": null,
      "grid_gap": null,
      "grid_row": null,
      "grid_template_areas": null,
      "grid_template_columns": null,
      "grid_template_rows": null,
      "height": null,
      "justify_content": null,
      "justify_items": null,
      "left": null,
      "margin": null,
      "max_height": null,
      "max_width": null,
      "min_height": null,
      "min_width": null,
      "object_fit": null,
      "object_position": null,
      "order": null,
      "overflow": null,
      "overflow_x": null,
      "overflow_y": null,
      "padding": null,
      "right": null,
      "top": null,
      "visibility": null,
      "width": null
     }
    },
    "48a4dbf7faff4292ba21914ee157ac35": {
     "model_module": "@jupyter-widgets/controls",
     "model_module_version": "1.5.0",
     "model_name": "DescriptionStyleModel",
     "state": {
      "_model_module": "@jupyter-widgets/controls",
      "_model_module_version": "1.5.0",
      "_model_name": "DescriptionStyleModel",
      "_view_count": null,
      "_view_module": "@jupyter-widgets/base",
      "_view_module_version": "1.2.0",
      "_view_name": "StyleView",
      "description_width": ""
     }
    },
    "5c30c8dbe9ae4eb1aa61a1903d752979": {
     "model_module": "@jupyter-widgets/controls",
     "model_module_version": "1.5.0",
     "model_name": "HTMLModel",
     "state": {
      "_dom_classes": [],
      "_model_module": "@jupyter-widgets/controls",
      "_model_module_version": "1.5.0",
      "_model_name": "HTMLModel",
      "_view_count": null,
      "_view_module": "@jupyter-widgets/controls",
      "_view_module_version": "1.5.0",
      "_view_name": "HTMLView",
      "description": "",
      "description_tooltip": null,
      "layout": "IPY_MODEL_5db3e31a1326436381b57626a24e35f8",
      "placeholder": "​",
      "style": "IPY_MODEL_aa4bade3cd5b4f85b7657232ae42d730",
      "value": "100%"
     }
    },
    "5db3e31a1326436381b57626a24e35f8": {
     "model_module": "@jupyter-widgets/base",
     "model_module_version": "1.2.0",
     "model_name": "LayoutModel",
     "state": {
      "_model_module": "@jupyter-widgets/base",
      "_model_module_version": "1.2.0",
      "_model_name": "LayoutModel",
      "_view_count": null,
      "_view_module": "@jupyter-widgets/base",
      "_view_module_version": "1.2.0",
      "_view_name": "LayoutView",
      "align_content": null,
      "align_items": null,
      "align_self": null,
      "border": null,
      "bottom": null,
      "display": null,
      "flex": null,
      "flex_flow": null,
      "grid_area": null,
      "grid_auto_columns": null,
      "grid_auto_flow": null,
      "grid_auto_rows": null,
      "grid_column": null,
      "grid_gap": null,
      "grid_row": null,
      "grid_template_areas": null,
      "grid_template_columns": null,
      "grid_template_rows": null,
      "height": null,
      "justify_content": null,
      "justify_items": null,
      "left": null,
      "margin": null,
      "max_height": null,
      "max_width": null,
      "min_height": null,
      "min_width": null,
      "object_fit": null,
      "object_position": null,
      "order": null,
      "overflow": null,
      "overflow_x": null,
      "overflow_y": null,
      "padding": null,
      "right": null,
      "top": null,
      "visibility": null,
      "width": null
     }
    },
    "97b3136e270b4cc2bd75553932e931df": {
     "model_module": "@jupyter-widgets/base",
     "model_module_version": "1.2.0",
     "model_name": "LayoutModel",
     "state": {
      "_model_module": "@jupyter-widgets/base",
      "_model_module_version": "1.2.0",
      "_model_name": "LayoutModel",
      "_view_count": null,
      "_view_module": "@jupyter-widgets/base",
      "_view_module_version": "1.2.0",
      "_view_name": "LayoutView",
      "align_content": null,
      "align_items": null,
      "align_self": null,
      "border": null,
      "bottom": null,
      "display": null,
      "flex": null,
      "flex_flow": null,
      "grid_area": null,
      "grid_auto_columns": null,
      "grid_auto_flow": null,
      "grid_auto_rows": null,
      "grid_column": null,
      "grid_gap": null,
      "grid_row": null,
      "grid_template_areas": null,
      "grid_template_columns": null,
      "grid_template_rows": null,
      "height": null,
      "justify_content": null,
      "justify_items": null,
      "left": null,
      "margin": null,
      "max_height": null,
      "max_width": null,
      "min_height": null,
      "min_width": null,
      "object_fit": null,
      "object_position": null,
      "order": null,
      "overflow": null,
      "overflow_x": null,
      "overflow_y": null,
      "padding": null,
      "right": null,
      "top": null,
      "visibility": null,
      "width": null
     }
    },
    "aa4bade3cd5b4f85b7657232ae42d730": {
     "model_module": "@jupyter-widgets/controls",
     "model_module_version": "1.5.0",
     "model_name": "DescriptionStyleModel",
     "state": {
      "_model_module": "@jupyter-widgets/controls",
      "_model_module_version": "1.5.0",
      "_model_name": "DescriptionStyleModel",
      "_view_count": null,
      "_view_module": "@jupyter-widgets/base",
      "_view_module_version": "1.2.0",
      "_view_name": "StyleView",
      "description_width": ""
     }
    },
    "afe346b214fc4b8d92f1db34132fae13": {
     "model_module": "@jupyter-widgets/controls",
     "model_module_version": "1.5.0",
     "model_name": "HBoxModel",
     "state": {
      "_dom_classes": [],
      "_model_module": "@jupyter-widgets/controls",
      "_model_module_version": "1.5.0",
      "_model_name": "HBoxModel",
      "_view_count": null,
      "_view_module": "@jupyter-widgets/controls",
      "_view_module_version": "1.5.0",
      "_view_name": "HBoxView",
      "box_style": "",
      "children": [
       "IPY_MODEL_5c30c8dbe9ae4eb1aa61a1903d752979",
       "IPY_MODEL_ff6c82b7a3724ac4b3d90352be091148",
       "IPY_MODEL_e490a22a99ac4a15acaa493d01b3463c"
      ],
      "layout": "IPY_MODEL_1b14e3fc93894c72b354cfa1c828db6b"
     }
    },
    "c9eac980199e417ba16eca02aa5a99a9": {
     "model_module": "@jupyter-widgets/controls",
     "model_module_version": "1.5.0",
     "model_name": "ProgressStyleModel",
     "state": {
      "_model_module": "@jupyter-widgets/controls",
      "_model_module_version": "1.5.0",
      "_model_name": "ProgressStyleModel",
      "_view_count": null,
      "_view_module": "@jupyter-widgets/base",
      "_view_module_version": "1.2.0",
      "_view_name": "StyleView",
      "bar_color": null,
      "description_width": ""
     }
    },
    "e490a22a99ac4a15acaa493d01b3463c": {
     "model_module": "@jupyter-widgets/controls",
     "model_module_version": "1.5.0",
     "model_name": "HTMLModel",
     "state": {
      "_dom_classes": [],
      "_model_module": "@jupyter-widgets/controls",
      "_model_module_version": "1.5.0",
      "_model_name": "HTMLModel",
      "_view_count": null,
      "_view_module": "@jupyter-widgets/controls",
      "_view_module_version": "1.5.0",
      "_view_name": "HTMLView",
      "description": "",
      "description_tooltip": null,
      "layout": "IPY_MODEL_eb9814ff215c4ca5a33abaf9036ba681",
      "placeholder": "​",
      "style": "IPY_MODEL_48a4dbf7faff4292ba21914ee157ac35",
      "value": " 83.3M/83.3M [00:00&lt;00:00, 192MB/s]"
     }
    },
    "eb9814ff215c4ca5a33abaf9036ba681": {
     "model_module": "@jupyter-widgets/base",
     "model_module_version": "1.2.0",
     "model_name": "LayoutModel",
     "state": {
      "_model_module": "@jupyter-widgets/base",
      "_model_module_version": "1.2.0",
      "_model_name": "LayoutModel",
      "_view_count": null,
      "_view_module": "@jupyter-widgets/base",
      "_view_module_version": "1.2.0",
      "_view_name": "LayoutView",
      "align_content": null,
      "align_items": null,
      "align_self": null,
      "border": null,
      "bottom": null,
      "display": null,
      "flex": null,
      "flex_flow": null,
      "grid_area": null,
      "grid_auto_columns": null,
      "grid_auto_flow": null,
      "grid_auto_rows": null,
      "grid_column": null,
      "grid_gap": null,
      "grid_row": null,
      "grid_template_areas": null,
      "grid_template_columns": null,
      "grid_template_rows": null,
      "height": null,
      "justify_content": null,
      "justify_items": null,
      "left": null,
      "margin": null,
      "max_height": null,
      "max_width": null,
      "min_height": null,
      "min_width": null,
      "object_fit": null,
      "object_position": null,
      "order": null,
      "overflow": null,
      "overflow_x": null,
      "overflow_y": null,
      "padding": null,
      "right": null,
      "top": null,
      "visibility": null,
      "width": null
     }
    },
    "ff6c82b7a3724ac4b3d90352be091148": {
     "model_module": "@jupyter-widgets/controls",
     "model_module_version": "1.5.0",
     "model_name": "FloatProgressModel",
     "state": {
      "_dom_classes": [],
      "_model_module": "@jupyter-widgets/controls",
      "_model_module_version": "1.5.0",
      "_model_name": "FloatProgressModel",
      "_view_count": null,
      "_view_module": "@jupyter-widgets/controls",
      "_view_module_version": "1.5.0",
      "_view_name": "ProgressView",
      "bar_style": "success",
      "description": "",
      "description_tooltip": null,
      "layout": "IPY_MODEL_97b3136e270b4cc2bd75553932e931df",
      "max": 87319819,
      "min": 0,
      "orientation": "horizontal",
      "style": "IPY_MODEL_c9eac980199e417ba16eca02aa5a99a9",
      "value": 87319819
     }
    }
   }
  }
 },
 "nbformat": 4,
 "nbformat_minor": 1
}
